{
 "cells": [
  {
   "cell_type": "markdown",
   "metadata": {},
   "source": [
    "# Website Content Prediction\n",
    "\n",
    "In this project we're taking some data on customer's spending habits to predict whether or not they will click on a specific content on a website.\n",
    "\n",
    "As usual, we start with some data exploration, before moving onto some cleaning, feature scaling, Principal Component Analysis, sampling and finally modelling. \n",
    "\n",
    "We'll be using a stacked generalisation ensemble method for classification, which is a pretty common method to find in high performing Kaggle competitions these days. \n",
    "\n",
    "I'll go into what this is in a little more depth when we get to that stage, but for now let's import the usual suspects and get analysing.\n",
    "\n",
    "## EDA and Feature Engineering"
   ]
  },
  {
   "cell_type": "code",
   "execution_count": 2,
   "metadata": {},
   "outputs": [],
   "source": [
    "import pandas as pd\n",
    "import numpy as np\n",
    "import matplotlib.pyplot as plt\n",
    "import seaborn as sns\n",
    "%matplotlib inline\n",
    "\n",
    "import warnings\n",
    "warnings.filterwarnings(\"ignore\")\n",
    "\n",
    "from sklearn.model_selection import train_test_split, cross_val_score, GridSearchCV\n",
    "from sklearn.pipeline import make_pipeline\n",
    "from sklearn.preprocessing import RobustScaler\n",
    "\n",
    "from imblearn.under_sampling import RandomUnderSampler\n",
    "from imblearn.over_sampling import SMOTE\n",
    "\n",
    "from lightgbm import LGBMClassifier\n",
    "from xgboost import XGBClassifier\n",
    "from sklearn.svm import SVC\n",
    "from sklearn.ensemble import GradientBoostingClassifier, RandomForestClassifier, AdaBoostClassifier\n",
    "from mlxtend.classifier import StackingCVClassifier\n",
    "\n",
    "from sklearn.metrics import roc_auc_score, recall_score, precision_score, accuracy_score"
   ]
  },
  {
   "cell_type": "code",
   "execution_count": 3,
   "metadata": {},
   "outputs": [
    {
     "name": "stdout",
     "output_type": "stream",
     "text": [
      "(100000, 27)\n"
     ]
    },
    {
     "data": {
      "text/html": [
       "<div>\n",
       "<style scoped>\n",
       "    .dataframe tbody tr th:only-of-type {\n",
       "        vertical-align: middle;\n",
       "    }\n",
       "\n",
       "    .dataframe tbody tr th {\n",
       "        vertical-align: top;\n",
       "    }\n",
       "\n",
       "    .dataframe thead th {\n",
       "        text-align: right;\n",
       "    }\n",
       "</style>\n",
       "<table border=\"1\" class=\"dataframe\">\n",
       "  <thead>\n",
       "    <tr style=\"text-align: right;\">\n",
       "      <th></th>\n",
       "      <th>customer_id</th>\n",
       "      <th>content_1</th>\n",
       "      <th>content_2</th>\n",
       "      <th>content_3</th>\n",
       "      <th>content_4</th>\n",
       "      <th>content_5</th>\n",
       "      <th>content_6</th>\n",
       "      <th>content_7</th>\n",
       "      <th>content_8</th>\n",
       "      <th>content_9</th>\n",
       "      <th>...</th>\n",
       "      <th>store4_total_spend</th>\n",
       "      <th>store5_no_transactions</th>\n",
       "      <th>store5_total_spend</th>\n",
       "      <th>store6_no_transactions</th>\n",
       "      <th>store6_total_spend</th>\n",
       "      <th>store7_no_transactions</th>\n",
       "      <th>store7_total_spend</th>\n",
       "      <th>gender</th>\n",
       "      <th>affluency</th>\n",
       "      <th>county</th>\n",
       "    </tr>\n",
       "  </thead>\n",
       "  <tbody>\n",
       "    <tr>\n",
       "      <th>0</th>\n",
       "      <td>1</td>\n",
       "      <td>NaN</td>\n",
       "      <td>NaN</td>\n",
       "      <td>NaN</td>\n",
       "      <td>NaN</td>\n",
       "      <td>NaN</td>\n",
       "      <td>NaN</td>\n",
       "      <td>0.0</td>\n",
       "      <td>0.0</td>\n",
       "      <td>NaN</td>\n",
       "      <td>...</td>\n",
       "      <td>634.11</td>\n",
       "      <td>14</td>\n",
       "      <td>76.12</td>\n",
       "      <td>32</td>\n",
       "      <td>753.12</td>\n",
       "      <td>10</td>\n",
       "      <td>617.47</td>\n",
       "      <td>Female</td>\n",
       "      <td>Mid</td>\n",
       "      <td>Surrey</td>\n",
       "    </tr>\n",
       "    <tr>\n",
       "      <th>1</th>\n",
       "      <td>2</td>\n",
       "      <td>NaN</td>\n",
       "      <td>NaN</td>\n",
       "      <td>NaN</td>\n",
       "      <td>0.0</td>\n",
       "      <td>NaN</td>\n",
       "      <td>0.0</td>\n",
       "      <td>NaN</td>\n",
       "      <td>NaN</td>\n",
       "      <td>0.0</td>\n",
       "      <td>...</td>\n",
       "      <td>679.78</td>\n",
       "      <td>13</td>\n",
       "      <td>142.74</td>\n",
       "      <td>28</td>\n",
       "      <td>37.86</td>\n",
       "      <td>51</td>\n",
       "      <td>2787.49</td>\n",
       "      <td>Female</td>\n",
       "      <td>Mid</td>\n",
       "      <td>Greater Manchester</td>\n",
       "    </tr>\n",
       "    <tr>\n",
       "      <th>2</th>\n",
       "      <td>3</td>\n",
       "      <td>0.0</td>\n",
       "      <td>NaN</td>\n",
       "      <td>0.0</td>\n",
       "      <td>NaN</td>\n",
       "      <td>NaN</td>\n",
       "      <td>0.0</td>\n",
       "      <td>NaN</td>\n",
       "      <td>0.0</td>\n",
       "      <td>0.0</td>\n",
       "      <td>...</td>\n",
       "      <td>282.90</td>\n",
       "      <td>7</td>\n",
       "      <td>672.12</td>\n",
       "      <td>55</td>\n",
       "      <td>563.12</td>\n",
       "      <td>4</td>\n",
       "      <td>444.34</td>\n",
       "      <td>Female</td>\n",
       "      <td>Low</td>\n",
       "      <td>Greater Manchester</td>\n",
       "    </tr>\n",
       "    <tr>\n",
       "      <th>3</th>\n",
       "      <td>4</td>\n",
       "      <td>NaN</td>\n",
       "      <td>0.0</td>\n",
       "      <td>NaN</td>\n",
       "      <td>0.0</td>\n",
       "      <td>NaN</td>\n",
       "      <td>0.0</td>\n",
       "      <td>NaN</td>\n",
       "      <td>NaN</td>\n",
       "      <td>0.0</td>\n",
       "      <td>...</td>\n",
       "      <td>5954.89</td>\n",
       "      <td>49</td>\n",
       "      <td>2394.10</td>\n",
       "      <td>56</td>\n",
       "      <td>912.70</td>\n",
       "      <td>24</td>\n",
       "      <td>5859.31</td>\n",
       "      <td>Male</td>\n",
       "      <td>Mid</td>\n",
       "      <td>Brighton &amp; Hove</td>\n",
       "    </tr>\n",
       "    <tr>\n",
       "      <th>4</th>\n",
       "      <td>5</td>\n",
       "      <td>0.0</td>\n",
       "      <td>NaN</td>\n",
       "      <td>NaN</td>\n",
       "      <td>0.0</td>\n",
       "      <td>0.0</td>\n",
       "      <td>0.0</td>\n",
       "      <td>0.0</td>\n",
       "      <td>NaN</td>\n",
       "      <td>NaN</td>\n",
       "      <td>...</td>\n",
       "      <td>3170.40</td>\n",
       "      <td>27</td>\n",
       "      <td>651.36</td>\n",
       "      <td>52</td>\n",
       "      <td>925.30</td>\n",
       "      <td>17</td>\n",
       "      <td>433.57</td>\n",
       "      <td>Female</td>\n",
       "      <td>Low</td>\n",
       "      <td>Norfolk</td>\n",
       "    </tr>\n",
       "  </tbody>\n",
       "</table>\n",
       "<p>5 rows × 27 columns</p>\n",
       "</div>"
      ],
      "text/plain": [
       "   customer_id  content_1  content_2  content_3  content_4  content_5  \\\n",
       "0            1        NaN        NaN        NaN        NaN        NaN   \n",
       "1            2        NaN        NaN        NaN        0.0        NaN   \n",
       "2            3        0.0        NaN        0.0        NaN        NaN   \n",
       "3            4        NaN        0.0        NaN        0.0        NaN   \n",
       "4            5        0.0        NaN        NaN        0.0        0.0   \n",
       "\n",
       "   content_6  content_7  content_8  content_9  ...  store4_total_spend  \\\n",
       "0        NaN        0.0        0.0        NaN  ...              634.11   \n",
       "1        0.0        NaN        NaN        0.0  ...              679.78   \n",
       "2        0.0        NaN        0.0        0.0  ...              282.90   \n",
       "3        0.0        NaN        NaN        0.0  ...             5954.89   \n",
       "4        0.0        0.0        NaN        NaN  ...             3170.40   \n",
       "\n",
       "   store5_no_transactions  store5_total_spend  store6_no_transactions  \\\n",
       "0                      14               76.12                      32   \n",
       "1                      13              142.74                      28   \n",
       "2                       7              672.12                      55   \n",
       "3                      49             2394.10                      56   \n",
       "4                      27              651.36                      52   \n",
       "\n",
       "   store6_total_spend  store7_no_transactions  store7_total_spend  gender  \\\n",
       "0              753.12                      10              617.47  Female   \n",
       "1               37.86                      51             2787.49  Female   \n",
       "2              563.12                       4              444.34  Female   \n",
       "3              912.70                      24             5859.31    Male   \n",
       "4              925.30                      17              433.57  Female   \n",
       "\n",
       "   affluency              county  \n",
       "0        Mid              Surrey  \n",
       "1        Mid  Greater Manchester  \n",
       "2        Low  Greater Manchester  \n",
       "3        Mid     Brighton & Hove  \n",
       "4        Low             Norfolk  \n",
       "\n",
       "[5 rows x 27 columns]"
      ]
     },
     "execution_count": 3,
     "metadata": {},
     "output_type": "execute_result"
    }
   ],
   "source": [
    "df = pd.read_csv('input/content_train.csv')\n",
    "\n",
    "print(df.shape)\n",
    "df.head()"
   ]
  },
  {
   "cell_type": "markdown",
   "metadata": {},
   "source": [
    "We'll remove the id feature, and we'll need to choose which content to work with for this project (for ease, we'll pick the one with least NaNs). \n",
    "\n",
    "NaNs will likely be appearing for customers to whom have not had the content shown to them."
   ]
  },
  {
   "cell_type": "code",
   "execution_count": 4,
   "metadata": {},
   "outputs": [
    {
     "data": {
      "text/html": [
       "<div>\n",
       "<style scoped>\n",
       "    .dataframe tbody tr th:only-of-type {\n",
       "        vertical-align: middle;\n",
       "    }\n",
       "\n",
       "    .dataframe tbody tr th {\n",
       "        vertical-align: top;\n",
       "    }\n",
       "\n",
       "    .dataframe thead th {\n",
       "        text-align: right;\n",
       "    }\n",
       "</style>\n",
       "<table border=\"1\" class=\"dataframe\">\n",
       "  <thead>\n",
       "    <tr style=\"text-align: right;\">\n",
       "      <th></th>\n",
       "      <th>% not null</th>\n",
       "      <th>% balance</th>\n",
       "    </tr>\n",
       "  </thead>\n",
       "  <tbody>\n",
       "    <tr>\n",
       "      <th>content_1</th>\n",
       "      <td>46.022</td>\n",
       "      <td>0.502</td>\n",
       "    </tr>\n",
       "    <tr>\n",
       "      <th>content_2</th>\n",
       "      <td>42.958</td>\n",
       "      <td>0.509</td>\n",
       "    </tr>\n",
       "    <tr>\n",
       "      <th>content_3</th>\n",
       "      <td>27.314</td>\n",
       "      <td>0.975</td>\n",
       "    </tr>\n",
       "    <tr>\n",
       "      <th>content_4</th>\n",
       "      <td>38.079</td>\n",
       "      <td>1.096</td>\n",
       "    </tr>\n",
       "    <tr>\n",
       "      <th>content_5</th>\n",
       "      <td>44.830</td>\n",
       "      <td>0.793</td>\n",
       "    </tr>\n",
       "    <tr>\n",
       "      <th>content_6</th>\n",
       "      <td>49.706</td>\n",
       "      <td>0.156</td>\n",
       "    </tr>\n",
       "    <tr>\n",
       "      <th>content_7</th>\n",
       "      <td>38.196</td>\n",
       "      <td>0.201</td>\n",
       "    </tr>\n",
       "    <tr>\n",
       "      <th>content_8</th>\n",
       "      <td>38.346</td>\n",
       "      <td>0.210</td>\n",
       "    </tr>\n",
       "    <tr>\n",
       "      <th>content_9</th>\n",
       "      <td>48.025</td>\n",
       "      <td>0.349</td>\n",
       "    </tr>\n",
       "  </tbody>\n",
       "</table>\n",
       "</div>"
      ],
      "text/plain": [
       "           % not null  % balance\n",
       "content_1      46.022      0.502\n",
       "content_2      42.958      0.509\n",
       "content_3      27.314      0.975\n",
       "content_4      38.079      1.096\n",
       "content_5      44.830      0.793\n",
       "content_6      49.706      0.156\n",
       "content_7      38.196      0.201\n",
       "content_8      38.346      0.210\n",
       "content_9      48.025      0.349"
      ]
     },
     "execution_count": 4,
     "metadata": {},
     "output_type": "execute_result"
    }
   ],
   "source": [
    "df.drop('customer_id', axis=1, inplace=True)\n",
    "content_cols = ['content_1','content_2','content_3','content_4','content_5','content_6','content_7','content_8','content_9',]\n",
    "df_content_cols = df[content_cols]\n",
    "\n",
    "not_null_pct = pd.DataFrame(df_content_cols.count() / len(df_content_cols) * 100, columns=['% not null'])\n",
    "balance_pct = pd.DataFrame(df_content_cols.sum() / len(df_content_cols) * 100, columns=['% balance'])\n",
    "\n",
    "df_na_balance = pd.concat([not_null_pct, balance_pct], axis=1)\n",
    "df_na_balance"
   ]
  },
  {
   "cell_type": "markdown",
   "metadata": {},
   "source": [
    "Some HEAVY class imbalance here. We're going to have to try some sampling methods to get over this, but this looks like it'll be a tricky one to solve!"
   ]
  },
  {
   "cell_type": "code",
   "execution_count": 5,
   "metadata": {},
   "outputs": [
    {
     "data": {
      "image/png": "[encoded data removed]",
      "text/plain": [
       "<Figure size 720x432 with 1 Axes>"
      ]
     },
     "metadata": {
      "needs_background": "light"
     },
     "output_type": "display_data"
    }
   ],
   "source": [
    "plt.figure(figsize=(10,6))\n",
    "sns.scatterplot(df_na_balance['% not null'], df_na_balance['% balance'], hue=df_na_balance.index, s=100)\n",
    "plt.show()"
   ]
  },
  {
   "cell_type": "markdown",
   "metadata": {},
   "source": [
    "To make matters worse, the content with high amounts of NaNs, also are the ones with higher class balance... So we'll take the content that shows highest in the top-right quadrant: content_5."
   ]
  },
  {
   "cell_type": "code",
   "execution_count": 6,
   "metadata": {},
   "outputs": [],
   "source": [
    "cols_remove = ['content_1','content_2','content_3','content_4','content_6','content_7','content_8','content_9']\n",
    "df.drop(cols_remove, axis=1, inplace=True)"
   ]
  },
  {
   "cell_type": "code",
   "execution_count": 7,
   "metadata": {},
   "outputs": [
    {
     "name": "stdout",
     "output_type": "stream",
     "text": [
      "(44830, 18)\n"
     ]
    }
   ],
   "source": [
    "df = df.dropna().reset_index(drop=True)\n",
    "print(df.shape)"
   ]
  },
  {
   "cell_type": "code",
   "execution_count": 8,
   "metadata": {},
   "outputs": [
    {
     "name": "stdout",
     "output_type": "stream",
     "text": [
      "<class 'pandas.core.frame.DataFrame'>\n",
      "RangeIndex: 44830 entries, 0 to 44829\n",
      "Data columns (total 18 columns):\n",
      "content_5                 44830 non-null float64\n",
      "store1_no_transactions    44830 non-null int64\n",
      "store1_total_spend        44830 non-null float64\n",
      "store2_no_transactions    44830 non-null int64\n",
      "store2_total_spend        44830 non-null float64\n",
      "store3_no_transactions    44830 non-null int64\n",
      "store3_total_spend        44830 non-null float64\n",
      "store4_no_transactions    44830 non-null int64\n",
      "store4_total_spend        44830 non-null float64\n",
      "store5_no_transactions    44830 non-null int64\n",
      "store5_total_spend        44830 non-null float64\n",
      "store6_no_transactions    44830 non-null int64\n",
      "store6_total_spend        44830 non-null float64\n",
      "store7_no_transactions    44830 non-null int64\n",
      "store7_total_spend        44830 non-null float64\n",
      "gender                    44830 non-null object\n",
      "affluency                 44830 non-null object\n",
      "county                    44830 non-null object\n",
      "dtypes: float64(8), int64(7), object(3)\n",
      "memory usage: 6.2+ MB\n"
     ]
    }
   ],
   "source": [
    "df.info()"
   ]
  },
  {
   "cell_type": "markdown",
   "metadata": {},
   "source": [
    "There are 3 categorical features in there that we'll need to sort out. County in particular looks like it'll need some particular attention.\n",
    "\n",
    "Let's take a look at our numerical features first though."
   ]
  },
  {
   "cell_type": "code",
   "execution_count": 9,
   "metadata": {},
   "outputs": [
    {
     "data": {
      "text/html": [
       "<div>\n",
       "<style scoped>\n",
       "    .dataframe tbody tr th:only-of-type {\n",
       "        vertical-align: middle;\n",
       "    }\n",
       "\n",
       "    .dataframe tbody tr th {\n",
       "        vertical-align: top;\n",
       "    }\n",
       "\n",
       "    .dataframe thead th {\n",
       "        text-align: right;\n",
       "    }\n",
       "</style>\n",
       "<table border=\"1\" class=\"dataframe\">\n",
       "  <thead>\n",
       "    <tr style=\"text-align: right;\">\n",
       "      <th></th>\n",
       "      <th>content_5</th>\n",
       "      <th>store1_no_transactions</th>\n",
       "      <th>store1_total_spend</th>\n",
       "      <th>store2_no_transactions</th>\n",
       "      <th>store2_total_spend</th>\n",
       "      <th>store3_no_transactions</th>\n",
       "      <th>store3_total_spend</th>\n",
       "      <th>store4_no_transactions</th>\n",
       "      <th>store4_total_spend</th>\n",
       "      <th>store5_no_transactions</th>\n",
       "      <th>store5_total_spend</th>\n",
       "      <th>store6_no_transactions</th>\n",
       "      <th>store6_total_spend</th>\n",
       "      <th>store7_no_transactions</th>\n",
       "      <th>store7_total_spend</th>\n",
       "    </tr>\n",
       "  </thead>\n",
       "  <tbody>\n",
       "    <tr>\n",
       "      <th>count</th>\n",
       "      <td>44830.000000</td>\n",
       "      <td>44830.000000</td>\n",
       "      <td>44830.000000</td>\n",
       "      <td>44830.000000</td>\n",
       "      <td>44830.000000</td>\n",
       "      <td>44830.000000</td>\n",
       "      <td>44830.000000</td>\n",
       "      <td>44830.000000</td>\n",
       "      <td>44830.000000</td>\n",
       "      <td>44830.000000</td>\n",
       "      <td>44830.000000</td>\n",
       "      <td>44830.000000</td>\n",
       "      <td>44830.000000</td>\n",
       "      <td>44830.000000</td>\n",
       "      <td>44830.000000</td>\n",
       "    </tr>\n",
       "    <tr>\n",
       "      <th>mean</th>\n",
       "      <td>0.017689</td>\n",
       "      <td>49.938746</td>\n",
       "      <td>770.204315</td>\n",
       "      <td>50.082623</td>\n",
       "      <td>1151.190058</td>\n",
       "      <td>50.108209</td>\n",
       "      <td>2833.789122</td>\n",
       "      <td>49.719563</td>\n",
       "      <td>2815.363340</td>\n",
       "      <td>30.512603</td>\n",
       "      <td>1043.910412</td>\n",
       "      <td>30.342628</td>\n",
       "      <td>571.474093</td>\n",
       "      <td>30.527705</td>\n",
       "      <td>2826.470097</td>\n",
       "    </tr>\n",
       "    <tr>\n",
       "      <th>std</th>\n",
       "      <td>0.131820</td>\n",
       "      <td>19.019645</td>\n",
       "      <td>896.816767</td>\n",
       "      <td>19.253655</td>\n",
       "      <td>1349.516816</td>\n",
       "      <td>18.954799</td>\n",
       "      <td>3365.743117</td>\n",
       "      <td>19.042009</td>\n",
       "      <td>3334.423549</td>\n",
       "      <td>18.248171</td>\n",
       "      <td>1411.712431</td>\n",
       "      <td>18.143823</td>\n",
       "      <td>776.658712</td>\n",
       "      <td>18.213927</td>\n",
       "      <td>3786.695710</td>\n",
       "    </tr>\n",
       "    <tr>\n",
       "      <th>min</th>\n",
       "      <td>0.000000</td>\n",
       "      <td>0.000000</td>\n",
       "      <td>0.000000</td>\n",
       "      <td>0.000000</td>\n",
       "      <td>0.000000</td>\n",
       "      <td>0.000000</td>\n",
       "      <td>0.000000</td>\n",
       "      <td>0.000000</td>\n",
       "      <td>0.000000</td>\n",
       "      <td>0.000000</td>\n",
       "      <td>0.000000</td>\n",
       "      <td>0.000000</td>\n",
       "      <td>0.000000</td>\n",
       "      <td>0.000000</td>\n",
       "      <td>0.000000</td>\n",
       "    </tr>\n",
       "    <tr>\n",
       "      <th>25%</th>\n",
       "      <td>0.000000</td>\n",
       "      <td>37.000000</td>\n",
       "      <td>205.670000</td>\n",
       "      <td>37.000000</td>\n",
       "      <td>310.512500</td>\n",
       "      <td>37.000000</td>\n",
       "      <td>756.205000</td>\n",
       "      <td>37.000000</td>\n",
       "      <td>754.387500</td>\n",
       "      <td>17.000000</td>\n",
       "      <td>189.502500</td>\n",
       "      <td>17.000000</td>\n",
       "      <td>105.372500</td>\n",
       "      <td>17.000000</td>\n",
       "      <td>511.705000</td>\n",
       "    </tr>\n",
       "    <tr>\n",
       "      <th>50%</th>\n",
       "      <td>0.000000</td>\n",
       "      <td>50.000000</td>\n",
       "      <td>493.815000</td>\n",
       "      <td>50.000000</td>\n",
       "      <td>737.150000</td>\n",
       "      <td>50.000000</td>\n",
       "      <td>1801.625000</td>\n",
       "      <td>50.000000</td>\n",
       "      <td>1786.465000</td>\n",
       "      <td>30.000000</td>\n",
       "      <td>587.525000</td>\n",
       "      <td>30.000000</td>\n",
       "      <td>321.900000</td>\n",
       "      <td>30.000000</td>\n",
       "      <td>1564.250000</td>\n",
       "    </tr>\n",
       "    <tr>\n",
       "      <th>75%</th>\n",
       "      <td>0.000000</td>\n",
       "      <td>63.000000</td>\n",
       "      <td>1006.700000</td>\n",
       "      <td>63.000000</td>\n",
       "      <td>1486.950000</td>\n",
       "      <td>63.000000</td>\n",
       "      <td>3677.585000</td>\n",
       "      <td>63.000000</td>\n",
       "      <td>3677.035000</td>\n",
       "      <td>43.000000</td>\n",
       "      <td>1359.060000</td>\n",
       "      <td>43.000000</td>\n",
       "      <td>736.947500</td>\n",
       "      <td>43.000000</td>\n",
       "      <td>3672.542500</td>\n",
       "    </tr>\n",
       "    <tr>\n",
       "      <th>max</th>\n",
       "      <td>1.000000</td>\n",
       "      <td>139.000000</td>\n",
       "      <td>13822.610000</td>\n",
       "      <td>140.000000</td>\n",
       "      <td>22317.430000</td>\n",
       "      <td>131.000000</td>\n",
       "      <td>73988.490000</td>\n",
       "      <td>129.000000</td>\n",
       "      <td>82972.690000</td>\n",
       "      <td>116.000000</td>\n",
       "      <td>40018.310000</td>\n",
       "      <td>124.000000</td>\n",
       "      <td>14822.620000</td>\n",
       "      <td>118.000000</td>\n",
       "      <td>65821.180000</td>\n",
       "    </tr>\n",
       "  </tbody>\n",
       "</table>\n",
       "</div>"
      ],
      "text/plain": [
       "          content_5  store1_no_transactions  store1_total_spend  \\\n",
       "count  44830.000000            44830.000000        44830.000000   \n",
       "mean       0.017689               49.938746          770.204315   \n",
       "std        0.131820               19.019645          896.816767   \n",
       "min        0.000000                0.000000            0.000000   \n",
       "25%        0.000000               37.000000          205.670000   \n",
       "50%        0.000000               50.000000          493.815000   \n",
       "75%        0.000000               63.000000         1006.700000   \n",
       "max        1.000000              139.000000        13822.610000   \n",
       "\n",
       "       store2_no_transactions  store2_total_spend  store3_no_transactions  \\\n",
       "count            44830.000000        44830.000000            44830.000000   \n",
       "mean                50.082623         1151.190058               50.108209   \n",
       "std                 19.253655         1349.516816               18.954799   \n",
       "min                  0.000000            0.000000                0.000000   \n",
       "25%                 37.000000          310.512500               37.000000   \n",
       "50%                 50.000000          737.150000               50.000000   \n",
       "75%                 63.000000         1486.950000               63.000000   \n",
       "max                140.000000        22317.430000              131.000000   \n",
       "\n",
       "       store3_total_spend  store4_no_transactions  store4_total_spend  \\\n",
       "count        44830.000000            44830.000000        44830.000000   \n",
       "mean          2833.789122               49.719563         2815.363340   \n",
       "std           3365.743117               19.042009         3334.423549   \n",
       "min              0.000000                0.000000            0.000000   \n",
       "25%            756.205000               37.000000          754.387500   \n",
       "50%           1801.625000               50.000000         1786.465000   \n",
       "75%           3677.585000               63.000000         3677.035000   \n",
       "max          73988.490000              129.000000        82972.690000   \n",
       "\n",
       "       store5_no_transactions  store5_total_spend  store6_no_transactions  \\\n",
       "count            44830.000000        44830.000000            44830.000000   \n",
       "mean                30.512603         1043.910412               30.342628   \n",
       "std                 18.248171         1411.712431               18.143823   \n",
       "min                  0.000000            0.000000                0.000000   \n",
       "25%                 17.000000          189.502500               17.000000   \n",
       "50%                 30.000000          587.525000               30.000000   \n",
       "75%                 43.000000         1359.060000               43.000000   \n",
       "max                116.000000        40018.310000              124.000000   \n",
       "\n",
       "       store6_total_spend  store7_no_transactions  store7_total_spend  \n",
       "count        44830.000000            44830.000000        44830.000000  \n",
       "mean           571.474093               30.527705         2826.470097  \n",
       "std            776.658712               18.213927         3786.695710  \n",
       "min              0.000000                0.000000            0.000000  \n",
       "25%            105.372500               17.000000          511.705000  \n",
       "50%            321.900000               30.000000         1564.250000  \n",
       "75%            736.947500               43.000000         3672.542500  \n",
       "max          14822.620000              118.000000        65821.180000  "
      ]
     },
     "execution_count": 9,
     "metadata": {},
     "output_type": "execute_result"
    }
   ],
   "source": [
    "df.describe()"
   ]
  },
  {
   "cell_type": "code",
   "execution_count": 10,
   "metadata": {},
   "outputs": [
    {
     "data": {
      "image/png": "[encoded data removed]",
      "text/plain": [
       "<Figure size 576x504 with 3 Axes>"
      ]
     },
     "metadata": {
      "needs_background": "light"
     },
     "output_type": "display_data"
    }
   ],
   "source": [
    "df_categorical = df.select_dtypes(include='object')\n",
    "fig, ax = plt.subplots(3,1,figsize = (8,7))\n",
    "fig.tight_layout()\n",
    "for i, feature in enumerate(df_categorical.columns):\n",
    "    plot = sns.countplot(df_categorical[feature], color='turquoise', ax=ax[i], )\n",
    "fig.show()"
   ]
  },
  {
   "cell_type": "markdown",
   "metadata": {},
   "source": [
    "We can just create scales for gender and affluency, but we'll need to encode the county. But since there are so many, we may have to lookup to a higher geospatial granularity, or even remove the feature entirely."
   ]
  },
  {
   "cell_type": "code",
   "execution_count": 11,
   "metadata": {},
   "outputs": [],
   "source": [
    "# 1 if female, 0 if male\n",
    "gender_encode_dict = dict(zip(df['gender'].unique(), [1,0]))\n",
    "# Ordinal scale for affluency\n",
    "affluency_encode_dict = dict(zip(df['affluency'].unique(), [2,1,0,3,4]))"
   ]
  },
  {
   "cell_type": "code",
   "execution_count": 12,
   "metadata": {},
   "outputs": [
    {
     "data": {
      "text/html": [
       "<div>\n",
       "<style scoped>\n",
       "    .dataframe tbody tr th:only-of-type {\n",
       "        vertical-align: middle;\n",
       "    }\n",
       "\n",
       "    .dataframe tbody tr th {\n",
       "        vertical-align: top;\n",
       "    }\n",
       "\n",
       "    .dataframe thead th {\n",
       "        text-align: right;\n",
       "    }\n",
       "</style>\n",
       "<table border=\"1\" class=\"dataframe\">\n",
       "  <thead>\n",
       "    <tr style=\"text-align: right;\">\n",
       "      <th></th>\n",
       "      <th>content_5</th>\n",
       "      <th>store1_no_transactions</th>\n",
       "      <th>store1_total_spend</th>\n",
       "      <th>store2_no_transactions</th>\n",
       "      <th>store2_total_spend</th>\n",
       "      <th>store3_no_transactions</th>\n",
       "      <th>store3_total_spend</th>\n",
       "      <th>store4_no_transactions</th>\n",
       "      <th>store4_total_spend</th>\n",
       "      <th>store5_no_transactions</th>\n",
       "      <th>store5_total_spend</th>\n",
       "      <th>store6_no_transactions</th>\n",
       "      <th>store6_total_spend</th>\n",
       "      <th>store7_no_transactions</th>\n",
       "      <th>store7_total_spend</th>\n",
       "      <th>gender</th>\n",
       "      <th>affluency</th>\n",
       "      <th>county</th>\n",
       "    </tr>\n",
       "  </thead>\n",
       "  <tbody>\n",
       "    <tr>\n",
       "      <th>0</th>\n",
       "      <td>0.0</td>\n",
       "      <td>38</td>\n",
       "      <td>143.67</td>\n",
       "      <td>39</td>\n",
       "      <td>601.60</td>\n",
       "      <td>39</td>\n",
       "      <td>856.57</td>\n",
       "      <td>52</td>\n",
       "      <td>3170.40</td>\n",
       "      <td>27</td>\n",
       "      <td>651.36</td>\n",
       "      <td>52</td>\n",
       "      <td>925.30</td>\n",
       "      <td>17</td>\n",
       "      <td>433.57</td>\n",
       "      <td>1</td>\n",
       "      <td>2</td>\n",
       "      <td>Norfolk</td>\n",
       "    </tr>\n",
       "    <tr>\n",
       "      <th>1</th>\n",
       "      <td>0.0</td>\n",
       "      <td>56</td>\n",
       "      <td>1947.77</td>\n",
       "      <td>45</td>\n",
       "      <td>2460.47</td>\n",
       "      <td>51</td>\n",
       "      <td>9436.17</td>\n",
       "      <td>33</td>\n",
       "      <td>573.02</td>\n",
       "      <td>0</td>\n",
       "      <td>0.00</td>\n",
       "      <td>0</td>\n",
       "      <td>0.00</td>\n",
       "      <td>32</td>\n",
       "      <td>3342.85</td>\n",
       "      <td>1</td>\n",
       "      <td>1</td>\n",
       "      <td>County Durham</td>\n",
       "    </tr>\n",
       "    <tr>\n",
       "      <th>2</th>\n",
       "      <td>0.0</td>\n",
       "      <td>29</td>\n",
       "      <td>2441.30</td>\n",
       "      <td>57</td>\n",
       "      <td>648.95</td>\n",
       "      <td>55</td>\n",
       "      <td>9695.78</td>\n",
       "      <td>86</td>\n",
       "      <td>8386.47</td>\n",
       "      <td>23</td>\n",
       "      <td>2.28</td>\n",
       "      <td>19</td>\n",
       "      <td>327.66</td>\n",
       "      <td>26</td>\n",
       "      <td>1436.20</td>\n",
       "      <td>1</td>\n",
       "      <td>0</td>\n",
       "      <td>Essex</td>\n",
       "    </tr>\n",
       "    <tr>\n",
       "      <th>3</th>\n",
       "      <td>0.0</td>\n",
       "      <td>28</td>\n",
       "      <td>602.62</td>\n",
       "      <td>10</td>\n",
       "      <td>756.95</td>\n",
       "      <td>81</td>\n",
       "      <td>2629.97</td>\n",
       "      <td>56</td>\n",
       "      <td>687.44</td>\n",
       "      <td>48</td>\n",
       "      <td>702.18</td>\n",
       "      <td>55</td>\n",
       "      <td>140.50</td>\n",
       "      <td>0</td>\n",
       "      <td>0.00</td>\n",
       "      <td>0</td>\n",
       "      <td>0</td>\n",
       "      <td>West Sussex</td>\n",
       "    </tr>\n",
       "    <tr>\n",
       "      <th>4</th>\n",
       "      <td>0.0</td>\n",
       "      <td>54</td>\n",
       "      <td>1128.71</td>\n",
       "      <td>31</td>\n",
       "      <td>6.20</td>\n",
       "      <td>16</td>\n",
       "      <td>138.16</td>\n",
       "      <td>43</td>\n",
       "      <td>5160.10</td>\n",
       "      <td>36</td>\n",
       "      <td>958.01</td>\n",
       "      <td>34</td>\n",
       "      <td>20.65</td>\n",
       "      <td>24</td>\n",
       "      <td>468.64</td>\n",
       "      <td>0</td>\n",
       "      <td>0</td>\n",
       "      <td>Greater Manchester</td>\n",
       "    </tr>\n",
       "  </tbody>\n",
       "</table>\n",
       "</div>"
      ],
      "text/plain": [
       "   content_5  store1_no_transactions  store1_total_spend  \\\n",
       "0        0.0                      38              143.67   \n",
       "1        0.0                      56             1947.77   \n",
       "2        0.0                      29             2441.30   \n",
       "3        0.0                      28              602.62   \n",
       "4        0.0                      54             1128.71   \n",
       "\n",
       "   store2_no_transactions  store2_total_spend  store3_no_transactions  \\\n",
       "0                      39              601.60                      39   \n",
       "1                      45             2460.47                      51   \n",
       "2                      57              648.95                      55   \n",
       "3                      10              756.95                      81   \n",
       "4                      31                6.20                      16   \n",
       "\n",
       "   store3_total_spend  store4_no_transactions  store4_total_spend  \\\n",
       "0              856.57                      52             3170.40   \n",
       "1             9436.17                      33              573.02   \n",
       "2             9695.78                      86             8386.47   \n",
       "3             2629.97                      56              687.44   \n",
       "4              138.16                      43             5160.10   \n",
       "\n",
       "   store5_no_transactions  store5_total_spend  store6_no_transactions  \\\n",
       "0                      27              651.36                      52   \n",
       "1                       0                0.00                       0   \n",
       "2                      23                2.28                      19   \n",
       "3                      48              702.18                      55   \n",
       "4                      36              958.01                      34   \n",
       "\n",
       "   store6_total_spend  store7_no_transactions  store7_total_spend  gender  \\\n",
       "0              925.30                      17              433.57       1   \n",
       "1                0.00                      32             3342.85       1   \n",
       "2              327.66                      26             1436.20       1   \n",
       "3              140.50                       0                0.00       0   \n",
       "4               20.65                      24              468.64       0   \n",
       "\n",
       "   affluency              county  \n",
       "0          2             Norfolk  \n",
       "1          1       County Durham  \n",
       "2          0               Essex  \n",
       "3          0         West Sussex  \n",
       "4          0  Greater Manchester  "
      ]
     },
     "execution_count": 12,
     "metadata": {},
     "output_type": "execute_result"
    }
   ],
   "source": [
    "df = df.replace({'gender': gender_encode_dict})\n",
    "df = df.replace({'affluency': affluency_encode_dict})\n",
    "df.head()"
   ]
  },
  {
   "cell_type": "code",
   "execution_count": 13,
   "metadata": {},
   "outputs": [
    {
     "data": {
      "text/html": [
       "<div>\n",
       "<style scoped>\n",
       "    .dataframe tbody tr th:only-of-type {\n",
       "        vertical-align: middle;\n",
       "    }\n",
       "\n",
       "    .dataframe tbody tr th {\n",
       "        vertical-align: top;\n",
       "    }\n",
       "\n",
       "    .dataframe thead th {\n",
       "        text-align: right;\n",
       "    }\n",
       "</style>\n",
       "<table border=\"1\" class=\"dataframe\">\n",
       "  <thead>\n",
       "    <tr style=\"text-align: right;\">\n",
       "      <th></th>\n",
       "      <th>county</th>\n",
       "      <th>region</th>\n",
       "    </tr>\n",
       "  </thead>\n",
       "  <tbody>\n",
       "    <tr>\n",
       "      <th>0</th>\n",
       "      <td>Guernsey</td>\n",
       "      <td>Crown Dependencies</td>\n",
       "    </tr>\n",
       "    <tr>\n",
       "      <th>1</th>\n",
       "      <td>IOM</td>\n",
       "      <td>Crown Dependencies</td>\n",
       "    </tr>\n",
       "  </tbody>\n",
       "</table>\n",
       "</div>"
      ],
      "text/plain": [
       "     county              region\n",
       "0  Guernsey  Crown Dependencies\n",
       "1       IOM  Crown Dependencies"
      ]
     },
     "execution_count": 13,
     "metadata": {},
     "output_type": "execute_result"
    }
   ],
   "source": [
    "county_lookup = pd.read_csv('input/uk-counties-to-regions.csv')\n",
    "county_lookup.head(2)"
   ]
  },
  {
   "cell_type": "code",
   "execution_count": 14,
   "metadata": {},
   "outputs": [
    {
     "name": "stdout",
     "output_type": "stream",
     "text": [
      "df shape: (58417, 18)\n",
      "Number of unique regions: 9\n",
      "Number of NaNs in region: 0\n"
     ]
    }
   ],
   "source": [
    "df = df.merge(county_lookup, how='inner').drop('county', axis=1)\n",
    "print('df shape: {}'.format(df.shape))\n",
    "print('Number of unique regions: {}'.format(len(df['region'].unique())))\n",
    "print('Number of NaNs in region: {}'.format(sum(df['region'].isna())))"
   ]
  },
  {
   "cell_type": "markdown",
   "metadata": {},
   "source": [
    "We'll remove those NA values resulting from the merge, as it's not too much. And 10 dummy variables shouldn't be too bad I feel. I'm sure we will work with it more in our PCA work."
   ]
  },
  {
   "cell_type": "code",
   "execution_count": 15,
   "metadata": {},
   "outputs": [],
   "source": [
    "df.dropna(inplace=True)\n",
    "def dummies(df, columns):\n",
    "    for column in columns:\n",
    "        df[column] = df[column].apply(lambda x: str(x))\n",
    "        df = pd.concat((df, pd.get_dummies(df[column], prefix = column)), axis = 1)\n",
    "        df = df.drop(column, 1)\n",
    "    return df"
   ]
  },
  {
   "cell_type": "code",
   "execution_count": 16,
   "metadata": {},
   "outputs": [],
   "source": [
    "df = dummies(df, ['region'])"
   ]
  },
  {
   "cell_type": "markdown",
   "metadata": {},
   "source": [
    "It's always hepful at this point to check out the correlations of all the variables, so we can be aware of any highly correlated features (correlations outside of the target variable, that is)."
   ]
  },
  {
   "cell_type": "code",
   "execution_count": 17,
   "metadata": {},
   "outputs": [
    {
     "data": {
      "image/png": "[encoded data removed]",
      "text/plain": [
       "<Figure size 1008x864 with 2 Axes>"
      ]
     },
     "metadata": {
      "needs_background": "light"
     },
     "output_type": "display_data"
    }
   ],
   "source": [
    "plt.figure(figsize=(14,12))\n",
    "sns.heatmap(df.astype(float).corr(),linewidths=0.1,vmax=1.0, \n",
    "            square=True)\n",
    "plt.show()"
   ]
  },
  {
   "cell_type": "markdown",
   "metadata": {},
   "source": [
    "Looks good! I was worried that the no. transactions and total transaction features were going to be highly correlated, in which case we'd have to work through that... But thankfully not today. \n",
    "\n",
    "Highly correlated features aren't necessarily a bad thing, but they can be quite fiddly for feature selection. Often we need to remove a selection of the correlated features as they can be expensive to keep in, but the boundary of what to keep and what to throw is hard to define, and hence, fiddly. \n",
    "\n",
    "## Feature Scaling & Sampling"
   ]
  },
  {
   "cell_type": "code",
   "execution_count": 18,
   "metadata": {},
   "outputs": [],
   "source": [
    "X = df.loc[:, df.columns != 'content_5']\n",
    "y = df['content_5']\n",
    "\n",
    "X_train, X_test, y_train, y_test = train_test_split(X, y, test_size=0.2, random_state = 10)\n",
    "\n",
    "#train = pd.concat([X_train, y_train], axis=1)\n",
    "#test = pd.concat([X_test, y_test], axis=1)"
   ]
  },
  {
   "cell_type": "code",
   "execution_count": 19,
   "metadata": {},
   "outputs": [
    {
     "name": "stdout",
     "output_type": "stream",
     "text": [
      "[]\n",
      "(46733, 25)\n"
     ]
    }
   ],
   "source": [
    "overfit = []\n",
    "for i in X_train.columns:\n",
    "    counts = X_train[i].value_counts()\n",
    "    zeros = counts.iloc[0]\n",
    "    if zeros / len(X_train) * 100 > 99.94:\n",
    "        overfit.append(i)\n",
    "\n",
    "overfit = list(overfit)\n",
    "print(overfit)\n",
    "X_train = X_train.drop(overfit, axis=1)\n",
    "print(X_train.shape)"
   ]
  },
  {
   "cell_type": "markdown",
   "metadata": {},
   "source": [
    "We don't need to get rid of any features that may cause overfitting according to the above check, which is promising.\n",
    "\n",
    "Now we need to address the class imbalance that's been hanging over my head... We'll do a mixture of undersampling (removing records to address the imbalance), and Synthetic Minority Over Sampling."
   ]
  },
  {
   "cell_type": "code",
   "execution_count": 20,
   "metadata": {},
   "outputs": [
    {
     "name": "stdout",
     "output_type": "stream",
     "text": [
      "(2373, 25)\n"
     ]
    }
   ],
   "source": [
    "rus = RandomUnderSampler(ratio=0.5, random_state=10)\n",
    "X_train_rus, y_train_rus = rus.fit_sample(X_train, y_train)\n",
    "print(X_train_rus.shape)"
   ]
  },
  {
   "cell_type": "code",
   "execution_count": 21,
   "metadata": {},
   "outputs": [],
   "source": [
    "sm = SMOTE(ratio=1, random_state = 10)\n",
    "X_train_res, y_train_res = sm.fit_sample(X_train_rus, y_train_rus)"
   ]
  },
  {
   "cell_type": "code",
   "execution_count": 22,
   "metadata": {},
   "outputs": [
    {
     "name": "stdout",
     "output_type": "stream",
     "text": [
      "Before Sampling:\n",
      "---------------------\n",
      "X_train: 46733 records\n",
      "y_train: 46733 records\n",
      "X_test: 11684 records\n",
      "y_test: 11684 records\n"
     ]
    }
   ],
   "source": [
    "print(\"Before Sampling:\")\n",
    "print(\"---------------------\")\n",
    "print(\"X_train: {} records\".format(str(len(X_train))))\n",
    "print(\"y_train: {} records\".format(str(len(y_train))))\n",
    "print(\"X_test: {} records\".format(str(len(X_test))))\n",
    "print(\"y_test: {} records\".format(str(len(y_test))))"
   ]
  },
  {
   "cell_type": "code",
   "execution_count": 23,
   "metadata": {},
   "outputs": [
    {
     "name": "stdout",
     "output_type": "stream",
     "text": [
      "After Sampling:\n",
      "---------------------\n",
      "X_train: 3164 records\n",
      "y_train: 3164 records\n",
      "X_test: 11684 records\n",
      "y_test: 11684 records\n"
     ]
    }
   ],
   "source": [
    "print(\"After Sampling:\")\n",
    "print(\"---------------------\")\n",
    "print(\"X_train: {} records\".format(str(len(X_train_res))))\n",
    "print(\"y_train: {} records\".format(str(len(y_train_res))))\n",
    "print(\"X_test: {} records\".format(str(len(X_test))))\n",
    "print(\"y_test: {} records\".format(str(len(y_test))))"
   ]
  },
  {
   "cell_type": "markdown",
   "metadata": {},
   "source": [
    "## Modelling\n",
    "We make a pipeline that scales our data just for the support vector classifier, as this a significant step when using this algorithm. Tree based models don't necessarily require this step, so we'll only perform it for the SVC.\n",
    "\n",
    "We'll also be using Grid Search for each of our classifiers. This will be computationally very expensive seeing as we've got so many models, but with such a heavy imbalance going on, I think the model will need all the help we can give it.\n",
    "\n",
    "The below will perform GridSearchCV over all our models and their respective parameter grids. We'll then ouput the results and inspect them."
   ]
  },
  {
   "cell_type": "code",
   "execution_count": 24,
   "metadata": {},
   "outputs": [],
   "source": [
    "class EstimatorSelectionHelper:\n",
    "\n",
    "    def __init__(self, models, params):\n",
    "        if not set(models.keys()).issubset(set(params.keys())):\n",
    "            missing_params = list(set(models.keys()) - set(params.keys()))\n",
    "            raise ValueError(\"Some estimators are missing parameters: %s\" % missing_params)\n",
    "        self.models = models\n",
    "        self.params = params\n",
    "        self.keys = models.keys()\n",
    "        self.grid_searches = {}\n",
    "\n",
    "    def fit(self, X, y, cv=4, n_jobs=-1, verbose=0, scoring='recall', refit=False):\n",
    "        for key in self.keys:\n",
    "            print(\"Running GridSearchCV for %s.\" % key)\n",
    "            model = self.models[key]\n",
    "            params = self.params[key]\n",
    "            gs = GridSearchCV(model, params, cv=cv, n_jobs=n_jobs,\n",
    "                              verbose=verbose, scoring=scoring, refit=refit,\n",
    "                              return_train_score=True)\n",
    "            gs.fit(X,y)\n",
    "            self.grid_searches[key] = gs    \n",
    "\n",
    "    def score_summary(self, sort_by='mean_score'):\n",
    "        def row(key, scores, params):\n",
    "            d = {\n",
    "                 'estimator': key,\n",
    "                 'min_score': min(scores),\n",
    "                 'max_score': max(scores),\n",
    "                 'mean_score': np.mean(scores),\n",
    "                 'std_score': np.std(scores),\n",
    "            }\n",
    "            return pd.Series({**params,**d})\n",
    "\n",
    "        rows = []\n",
    "        for k in self.grid_searches:\n",
    "            print(k)\n",
    "            params = self.grid_searches[k].cv_results_['params']\n",
    "            scores = []\n",
    "            for i in range(self.grid_searches[k].cv):\n",
    "                key = \"split{}_test_score\".format(i)\n",
    "                r = self.grid_searches[k].cv_results_[key]        \n",
    "                scores.append(r.reshape(len(params),1))\n",
    "\n",
    "            all_scores = np.hstack(scores)\n",
    "            for p, s in zip(params,all_scores):\n",
    "                rows.append((row(k, s, p)))\n",
    "\n",
    "        df = pd.concat(rows, axis=1).T.sort_values([sort_by], ascending=False)\n",
    "\n",
    "        columns = ['estimator', 'min_score', 'mean_score', 'max_score', 'std_score']\n",
    "        columns = columns + [c for c in df.columns if c not in columns]\n",
    "\n",
    "        return df[columns]"
   ]
  },
  {
   "cell_type": "code",
   "execution_count": 25,
   "metadata": {},
   "outputs": [],
   "source": [
    "# Define GridSearch parameters\n",
    "models = {\n",
    "    'SVC': SVC(),\n",
    "    'GradientBoostingClassifier': GradientBoostingClassifier(),\n",
    "    'LGBMClassifier': LGBMClassifier(),\n",
    "    'XGBClassifier': XGBClassifier(),\n",
    "    'RandomForestClassifier': RandomForestClassifier(),\n",
    "    'AdaBoostClassifier': AdaBoostClassifier(),\n",
    "}\n",
    "\n",
    "params = {\n",
    "    'SVC': {'kernel': ['linear','rbf'], \n",
    "            'C': [1,10,100,1000], \n",
    "            'gamma': [1,0.1,0.001,0.0001]},\n",
    "    \n",
    "    'GradientBoostingClassifier': {'n_estimators': [10,50,100,200,500], \n",
    "                                   'learning_rate': [0.01,0.05,0.1,0.2],\n",
    "                                   'max_features': 'auto',\n",
    "                                   'max_depth': [3,5,8],\n",
    "                                   'criterion': ['friedman_mse',  'mae']},\n",
    "    \n",
    "     'LGBMClassifier': {'n_estimators': [10,50,100,200,500],\n",
    "                       'num_leaves': [6,8,12,16],\n",
    "                       'learning_rate': [0.01,0.05,0.1,0.2],\n",
    "                       'is_unbalance': True,\n",
    "                       'reg_alpha' : [1,1.2],\n",
    "                       'reg_lambda' : [1,1.2,1.4],\n",
    "                       'objective': 'binary'},\n",
    "    \n",
    "    'XGBClassifier': {'n_estimators': [10,50,100,200,500],\n",
    "                      'max_depth': [3,5,8],\n",
    "                      'learning_rate': [0.01,0.05,0.1,0.2],\n",
    "                      'min_child_weight': [1,3,5],\n",
    "                      'objective': 'binary:logistic'},\n",
    "    \n",
    "    'RandomForestClassifier': {'n_estimators': [10,50,100,200,500],\n",
    "                               'max_features': [1,3,10],\n",
    "                               'max_depth': [3,5,8],\n",
    "                               'criterion': ['gini', 'entropy'],\n",
    "                               'bootstrap': [True, False],\n",
    "                              },\n",
    "    \n",
    "    'AdaBoostClassifier': {'n_estimators': [10,50,100,200,500],\n",
    "                          'learning_rate': [0.01,0.05,0.1,0.2]},\n",
    "}\n"
   ]
  },
  {
   "cell_type": "code",
   "execution_count": null,
   "metadata": {},
   "outputs": [
    {
     "name": "stdout",
     "output_type": "stream",
     "text": [
      "Running GridSearchCV for SVC.\n"
     ]
    }
   ],
   "source": [
    "helper = EstimatorSelectionHelper(models, params)\n",
    "helper.fit(X_train_res, y_train_res, scoring='recall', n_jobs=-1)"
   ]
  },
  {
   "cell_type": "code",
   "execution_count": null,
   "metadata": {},
   "outputs": [],
   "source": [
    "svc = make_pipeline(RobustScaler(), SVC(kernel='', C= 5, gamma= ,probability=True))"
   ]
  },
  {
   "cell_type": "code",
   "execution_count": null,
   "metadata": {},
   "outputs": [],
   "source": [
    "gbc = GradientBoostingClassifier(n_estimators=500, \n",
    "                                 learning_rate=0.05, \n",
    "                                 max_features='auto', \n",
    "                                 max_depth=4, \n",
    "                                 criterion=,\n",
    "                                 n_jobs=-1)"
   ]
  },
  {
   "cell_type": "code",
   "execution_count": null,
   "metadata": {},
   "outputs": [],
   "source": [
    "lightgbm = LGBMClassifier(objective='binary', \n",
    "                          n_estimators=500,\n",
    "                          num_leaves=4,\n",
    "                          learning_rate=0.01, \n",
    "                          is_unbalance=True,\n",
    "                          reg_alpha=,\n",
    "                          reg_lambda=,\n",
    "                          verbose=0,\n",
    "                          n_jobs=-1)"
   ]
  },
  {
   "cell_type": "code",
   "execution_count": null,
   "metadata": {},
   "outputs": [],
   "source": [
    "xgboost = XGBClassifier(n_estimators=500,\n",
    "                        learning_rate=0.01,\n",
    "                        max_depth=3, \n",
    "                        min_child_weight=0,\n",
    "                        objective='binary:logistic', \n",
    "                        n_jobs=-1,\n",
    "                        verbosity=0)"
   ]
  },
  {
   "cell_type": "code",
   "execution_count": null,
   "metadata": {},
   "outputs": [],
   "source": [
    "rf = RandomForestClassifier(n_estimators=500,\n",
    "                            max_features='auto', \n",
    "                            max_depth=3, \n",
    "                            criterion=,\n",
    "                            bootstrap=,\n",
    "                            n_jobs=-1)"
   ]
  },
  {
   "cell_type": "code",
   "execution_count": null,
   "metadata": {},
   "outputs": [],
   "source": [
    "ab = AdaBoostClassifier(n_estimators=500,\n",
    "                       learning_rate=)"
   ]
  },
  {
   "cell_type": "code",
   "execution_count": null,
   "metadata": {},
   "outputs": [],
   "source": [
    "stacked_gen = StackingCVClassifier(classifiers=(svc, gbc, lightgbm, xgboost, rf, ab),\n",
    "                                   use_probas=True,\n",
    "                                   meta_classifier=xgboost)"
   ]
  },
  {
   "cell_type": "code",
   "execution_count": null,
   "metadata": {},
   "outputs": [],
   "source": [
    "print('5-fold cross validation:\\n')\n",
    "\n",
    "for clf, label in zip([svc, gbc, lightgbm, xgboost, rf, ab, stacked_gen], \n",
    "                      ['Support Vector Classifier', \n",
    "                       'Gradient Boosted Classifier', \n",
    "                       'Light GBM',\n",
    "                       'XGBoost',\n",
    "                       'Random Forest',\n",
    "                       'Adaboost',\n",
    "                       'StackingClassifier']):\n",
    "\n",
    "    scores = cross_val_score(clf, X_train_res, y_train_res,\n",
    "                             cv=5, scoring='recall', n_jobs=-1)\n",
    "    print(\"Recall: %0.2f (+/- %0.2f) [%s]\" \n",
    "          % (scores.mean(), scores.std(), label))"
   ]
  },
  {
   "cell_type": "code",
   "execution_count": null,
   "metadata": {},
   "outputs": [],
   "source": [
    "print('BEGINNING THE FIT')\n",
    "\n",
    "print('Stacked Generative...')\n",
    "stack_gen_model = stacked_gen.fit(np.array(X_train_res), np.array(y_train_res))\n",
    "\n",
    "print('Support Vector Classifier...')\n",
    "svc_model_full_data = svc.fit(X_train_res, y_train_res)\n",
    "\n",
    "print('Gradient Boosted Classifier...')\n",
    "gbc_model_full_data = gbc.fit(X_train_res, y_train_res)\n",
    "\n",
    "print('Light GBM...')\n",
    "lightgbm_model_full_data = lightgbm.fit(X_train_res, y_train_res)\n",
    "\n",
    "print('XGBoost...')\n",
    "xgboost_model_full_data = xgboost.fit(X_train_res, y_train_res)\n",
    "\n",
    "print('Random Forest...')\n",
    "rf_model_full_data = rf.fit(X_train_res, y_train_res)\n",
    "\n",
    "print('AdaBoost...')\n",
    "ab_model_full_data = ab.fit(X_train_res, y_train_res)"
   ]
  },
  {
   "cell_type": "code",
   "execution_count": null,
   "metadata": {},
   "outputs": [],
   "source": [
    "def blend_models_predict(X):\n",
    "    return ((0.25 * svc_model_full_data.predict(X)) + \\\n",
    "            (0.1 * gbc_model_full_data.predict(X)) + \\\n",
    "            (0.1 * lightgbm_model_full_data.predict(X)) + \\\n",
    "            (0.1 * xgboost_model_full_data.predict(X)) + \\\n",
    "            (0.05 * rf_model_full_data.predict(X)) + \\\n",
    "            (0.1 * ab_model_full_data.predict(X)) + \\\n",
    "            (0.3 * rf_model_full_data.predict(np.array(X))))"
   ]
  },
  {
   "cell_type": "code",
   "execution_count": null,
   "metadata": {},
   "outputs": [],
   "source": [
    "y_pred_train = blend_models_predict(np.array(X_train_res))\n",
    "\n",
    "print('Train Results')\n",
    "print('-------------------')\n",
    "\n",
    "print('Accuracy: {}'.format(accuracy_score(y_train_res, stacked_gen.predict(np.array(X_train_res)))))\n",
    "print('Recall: {}'.format(recall_score(y_train_res, stacked_gen.predict(np.array(X_train_res)))))\n",
    "print('Precision: {}'.format(precision_score(y_train_res, stacked_gen.predict(np.array(X_train_res)))))\n",
    "print('ROC_AUC: {}'.format(roc_auc_score(y_train_res, stacked_gen.predict(np.array(X_train_res)))))"
   ]
  },
  {
   "cell_type": "code",
   "execution_count": null,
   "metadata": {},
   "outputs": [],
   "source": [
    "y_pred_test = blend_models_predict(np.array(X_test)).round()\n",
    "\n",
    "print('Test Results')\n",
    "print('-------------------')\n",
    "\n",
    "print('Accuracy: {}'.format(accuracy_score(y_test, y_pred_test)))\n",
    "print('Recall: {}'.format(recall_score(y_test, y_pred_test)))\n",
    "print('Precision: {}'.format(precision_score(y_test, y_pred_test)))\n",
    "print('ROC_AUC: {}'.format(roc_auc_score(y_test, y_pred_test)))"
   ]
  },
  {
   "cell_type": "code",
   "execution_count": null,
   "metadata": {},
   "outputs": [],
   "source": [
    "y_pred_test"
   ]
  },
  {
   "cell_type": "code",
   "execution_count": null,
   "metadata": {},
   "outputs": [],
   "source": []
  }
 ],
 "metadata": {
  "kernelspec": {
   "display_name": "'Python Interactive'",
   "language": "python",
   "name": "a8dae707-2c7a-4728-90dd-23e595076851"
  },
  "language_info": {
   "codemirror_mode": {
    "name": "ipython",
    "version": 3
   },
   "file_extension": ".py",
   "mimetype": "text/x-python",
   "name": "python",
   "nbconvert_exporter": "python",
   "pygments_lexer": "ipython3",
   "version": "3.7.1"
  }
 },
 "nbformat": 4,
 "nbformat_minor": 2
}
