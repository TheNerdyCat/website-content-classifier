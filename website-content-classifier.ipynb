{
 "cells": [
  {
   "cell_type": "markdown",
   "metadata": {},
   "source": [
    "# Website Content Prediction\n",
    "\n",
    "In this project we're taking some data on customer's spending habits to predict whether or not they will click on a specific content on a website.\n",
    "\n",
    "As usual, we start with some data exploration, before moving onto some cleaning, feature scaling, Principal Component Analysis, sampling and finally modelling. \n",
    "\n",
    "We'll be using a stacked generalisation ensemble method for classification, which is a pretty common method to find in high performing Kaggle competitions these days. \n",
    "\n",
    "I'll go into what this is in a little more depth when we get to that stage, but for now let's import the usual suspects and get analysing.\n",
    "\n",
    "## EDA and Feature Engineering"
   ]
  },
  {
   "cell_type": "code",
   "execution_count": 1,
   "metadata": {},
   "outputs": [
    {
     "name": "stderr",
     "output_type": "stream",
     "text": [
      "C:\\Users\\Edward Sims\\Anaconda3\\lib\\site-packages\\sklearn\\ensemble\\weight_boosting.py:29: DeprecationWarning: numpy.core.umath_tests is an internal NumPy module and should not be imported. It will be removed in a future NumPy release.\n",
      "  from numpy.core.umath_tests import inner1d\n"
     ]
    }
   ],
   "source": [
    "import pandas as pd\n",
    "import numpy as np\n",
    "import matplotlib.pyplot as plt\n",
    "import seaborn as sns\n",
    "%matplotlib inline\n",
    "\n",
    "import warnings\n",
    "warnings.filterwarnings(\"ignore\")\n",
    "\n",
    "from sklearn.model_selection import train_test_split, cross_val_score\n",
    "from sklearn.pipeline import make_pipeline\n",
    "from sklearn.preprocessing import RobustScaler\n",
    "\n",
    "from imblearn.under_sampling import RandomUnderSampler\n",
    "from imblearn.over_sampling import SMOTE\n",
    "\n",
    "from lightgbm import LGBMClassifier\n",
    "from xgboost import XGBClassifier\n",
    "from sklearn.svm import SVC\n",
    "from sklearn.ensemble import GradientBoostingClassifier, RandomForestClassifier, AdaBoostClassifier\n",
    "from mlxtend.classifier import StackingCVClassifier\n",
    "\n",
    "from sklearn.metrics import roc_auc_score"
   ]
  },
  {
   "cell_type": "code",
   "execution_count": 2,
   "metadata": {},
   "outputs": [
    {
     "name": "stdout",
     "output_type": "stream",
     "text": [
      "(100000, 27)\n"
     ]
    },
    {
     "data": {
      "text/html": [
       "<div>\n",
       "<style scoped>\n",
       "    .dataframe tbody tr th:only-of-type {\n",
       "        vertical-align: middle;\n",
       "    }\n",
       "\n",
       "    .dataframe tbody tr th {\n",
       "        vertical-align: top;\n",
       "    }\n",
       "\n",
       "    .dataframe thead th {\n",
       "        text-align: right;\n",
       "    }\n",
       "</style>\n",
       "<table border=\"1\" class=\"dataframe\">\n",
       "  <thead>\n",
       "    <tr style=\"text-align: right;\">\n",
       "      <th></th>\n",
       "      <th>customer_id</th>\n",
       "      <th>content_1</th>\n",
       "      <th>content_2</th>\n",
       "      <th>content_3</th>\n",
       "      <th>content_4</th>\n",
       "      <th>content_5</th>\n",
       "      <th>content_6</th>\n",
       "      <th>content_7</th>\n",
       "      <th>content_8</th>\n",
       "      <th>content_9</th>\n",
       "      <th>...</th>\n",
       "      <th>store4_total_spend</th>\n",
       "      <th>store5_no_transactions</th>\n",
       "      <th>store5_total_spend</th>\n",
       "      <th>store6_no_transactions</th>\n",
       "      <th>store6_total_spend</th>\n",
       "      <th>store7_no_transactions</th>\n",
       "      <th>store7_total_spend</th>\n",
       "      <th>gender</th>\n",
       "      <th>affluency</th>\n",
       "      <th>county</th>\n",
       "    </tr>\n",
       "  </thead>\n",
       "  <tbody>\n",
       "    <tr>\n",
       "      <th>0</th>\n",
       "      <td>1</td>\n",
       "      <td>NaN</td>\n",
       "      <td>NaN</td>\n",
       "      <td>NaN</td>\n",
       "      <td>NaN</td>\n",
       "      <td>NaN</td>\n",
       "      <td>NaN</td>\n",
       "      <td>0.0</td>\n",
       "      <td>0.0</td>\n",
       "      <td>NaN</td>\n",
       "      <td>...</td>\n",
       "      <td>634.11</td>\n",
       "      <td>14</td>\n",
       "      <td>76.12</td>\n",
       "      <td>32</td>\n",
       "      <td>753.12</td>\n",
       "      <td>10</td>\n",
       "      <td>617.47</td>\n",
       "      <td>Female</td>\n",
       "      <td>Mid</td>\n",
       "      <td>Surrey</td>\n",
       "    </tr>\n",
       "    <tr>\n",
       "      <th>1</th>\n",
       "      <td>2</td>\n",
       "      <td>NaN</td>\n",
       "      <td>NaN</td>\n",
       "      <td>NaN</td>\n",
       "      <td>0.0</td>\n",
       "      <td>NaN</td>\n",
       "      <td>0.0</td>\n",
       "      <td>NaN</td>\n",
       "      <td>NaN</td>\n",
       "      <td>0.0</td>\n",
       "      <td>...</td>\n",
       "      <td>679.78</td>\n",
       "      <td>13</td>\n",
       "      <td>142.74</td>\n",
       "      <td>28</td>\n",
       "      <td>37.86</td>\n",
       "      <td>51</td>\n",
       "      <td>2787.49</td>\n",
       "      <td>Female</td>\n",
       "      <td>Mid</td>\n",
       "      <td>Greater Manchester</td>\n",
       "    </tr>\n",
       "    <tr>\n",
       "      <th>2</th>\n",
       "      <td>3</td>\n",
       "      <td>0.0</td>\n",
       "      <td>NaN</td>\n",
       "      <td>0.0</td>\n",
       "      <td>NaN</td>\n",
       "      <td>NaN</td>\n",
       "      <td>0.0</td>\n",
       "      <td>NaN</td>\n",
       "      <td>0.0</td>\n",
       "      <td>0.0</td>\n",
       "      <td>...</td>\n",
       "      <td>282.90</td>\n",
       "      <td>7</td>\n",
       "      <td>672.12</td>\n",
       "      <td>55</td>\n",
       "      <td>563.12</td>\n",
       "      <td>4</td>\n",
       "      <td>444.34</td>\n",
       "      <td>Female</td>\n",
       "      <td>Low</td>\n",
       "      <td>Greater Manchester</td>\n",
       "    </tr>\n",
       "    <tr>\n",
       "      <th>3</th>\n",
       "      <td>4</td>\n",
       "      <td>NaN</td>\n",
       "      <td>0.0</td>\n",
       "      <td>NaN</td>\n",
       "      <td>0.0</td>\n",
       "      <td>NaN</td>\n",
       "      <td>0.0</td>\n",
       "      <td>NaN</td>\n",
       "      <td>NaN</td>\n",
       "      <td>0.0</td>\n",
       "      <td>...</td>\n",
       "      <td>5954.89</td>\n",
       "      <td>49</td>\n",
       "      <td>2394.10</td>\n",
       "      <td>56</td>\n",
       "      <td>912.70</td>\n",
       "      <td>24</td>\n",
       "      <td>5859.31</td>\n",
       "      <td>Male</td>\n",
       "      <td>Mid</td>\n",
       "      <td>Brighton &amp; Hove</td>\n",
       "    </tr>\n",
       "    <tr>\n",
       "      <th>4</th>\n",
       "      <td>5</td>\n",
       "      <td>0.0</td>\n",
       "      <td>NaN</td>\n",
       "      <td>NaN</td>\n",
       "      <td>0.0</td>\n",
       "      <td>0.0</td>\n",
       "      <td>0.0</td>\n",
       "      <td>0.0</td>\n",
       "      <td>NaN</td>\n",
       "      <td>NaN</td>\n",
       "      <td>...</td>\n",
       "      <td>3170.40</td>\n",
       "      <td>27</td>\n",
       "      <td>651.36</td>\n",
       "      <td>52</td>\n",
       "      <td>925.30</td>\n",
       "      <td>17</td>\n",
       "      <td>433.57</td>\n",
       "      <td>Female</td>\n",
       "      <td>Low</td>\n",
       "      <td>Norfolk</td>\n",
       "    </tr>\n",
       "  </tbody>\n",
       "</table>\n",
       "<p>5 rows × 27 columns</p>\n",
       "</div>"
      ],
      "text/plain": [
       "   customer_id  content_1  content_2  content_3  content_4  content_5  \\\n",
       "0            1        NaN        NaN        NaN        NaN        NaN   \n",
       "1            2        NaN        NaN        NaN        0.0        NaN   \n",
       "2            3        0.0        NaN        0.0        NaN        NaN   \n",
       "3            4        NaN        0.0        NaN        0.0        NaN   \n",
       "4            5        0.0        NaN        NaN        0.0        0.0   \n",
       "\n",
       "   content_6  content_7  content_8  content_9  ...  store4_total_spend  \\\n",
       "0        NaN        0.0        0.0        NaN  ...              634.11   \n",
       "1        0.0        NaN        NaN        0.0  ...              679.78   \n",
       "2        0.0        NaN        0.0        0.0  ...              282.90   \n",
       "3        0.0        NaN        NaN        0.0  ...             5954.89   \n",
       "4        0.0        0.0        NaN        NaN  ...             3170.40   \n",
       "\n",
       "   store5_no_transactions  store5_total_spend  store6_no_transactions  \\\n",
       "0                      14               76.12                      32   \n",
       "1                      13              142.74                      28   \n",
       "2                       7              672.12                      55   \n",
       "3                      49             2394.10                      56   \n",
       "4                      27              651.36                      52   \n",
       "\n",
       "   store6_total_spend  store7_no_transactions  store7_total_spend  gender  \\\n",
       "0              753.12                      10              617.47  Female   \n",
       "1               37.86                      51             2787.49  Female   \n",
       "2              563.12                       4              444.34  Female   \n",
       "3              912.70                      24             5859.31    Male   \n",
       "4              925.30                      17              433.57  Female   \n",
       "\n",
       "   affluency              county  \n",
       "0        Mid              Surrey  \n",
       "1        Mid  Greater Manchester  \n",
       "2        Low  Greater Manchester  \n",
       "3        Mid     Brighton & Hove  \n",
       "4        Low             Norfolk  \n",
       "\n",
       "[5 rows x 27 columns]"
      ]
     },
     "execution_count": 2,
     "metadata": {},
     "output_type": "execute_result"
    }
   ],
   "source": [
    "df = pd.read_csv('input/content_train.csv')\n",
    "\n",
    "print(df.shape)\n",
    "df.head()"
   ]
  },
  {
   "cell_type": "markdown",
   "metadata": {},
   "source": [
    "We'll remove the id feature, and we'll need to choose which content to work with for this project (for ease, we'll pick the one with least NaNs). \n",
    "\n",
    "NaNs will likely be appearing for customers to whom have not had the content shown to them."
   ]
  },
  {
   "cell_type": "code",
   "execution_count": 3,
   "metadata": {},
   "outputs": [
    {
     "data": {
      "text/html": [
       "<div>\n",
       "<style scoped>\n",
       "    .dataframe tbody tr th:only-of-type {\n",
       "        vertical-align: middle;\n",
       "    }\n",
       "\n",
       "    .dataframe tbody tr th {\n",
       "        vertical-align: top;\n",
       "    }\n",
       "\n",
       "    .dataframe thead th {\n",
       "        text-align: right;\n",
       "    }\n",
       "</style>\n",
       "<table border=\"1\" class=\"dataframe\">\n",
       "  <thead>\n",
       "    <tr style=\"text-align: right;\">\n",
       "      <th></th>\n",
       "      <th>% not null</th>\n",
       "      <th>% balance</th>\n",
       "    </tr>\n",
       "  </thead>\n",
       "  <tbody>\n",
       "    <tr>\n",
       "      <th>content_1</th>\n",
       "      <td>46.022</td>\n",
       "      <td>0.502</td>\n",
       "    </tr>\n",
       "    <tr>\n",
       "      <th>content_2</th>\n",
       "      <td>42.958</td>\n",
       "      <td>0.509</td>\n",
       "    </tr>\n",
       "    <tr>\n",
       "      <th>content_3</th>\n",
       "      <td>27.314</td>\n",
       "      <td>0.975</td>\n",
       "    </tr>\n",
       "    <tr>\n",
       "      <th>content_4</th>\n",
       "      <td>38.079</td>\n",
       "      <td>1.096</td>\n",
       "    </tr>\n",
       "    <tr>\n",
       "      <th>content_5</th>\n",
       "      <td>44.830</td>\n",
       "      <td>0.793</td>\n",
       "    </tr>\n",
       "    <tr>\n",
       "      <th>content_6</th>\n",
       "      <td>49.706</td>\n",
       "      <td>0.156</td>\n",
       "    </tr>\n",
       "    <tr>\n",
       "      <th>content_7</th>\n",
       "      <td>38.196</td>\n",
       "      <td>0.201</td>\n",
       "    </tr>\n",
       "    <tr>\n",
       "      <th>content_8</th>\n",
       "      <td>38.346</td>\n",
       "      <td>0.210</td>\n",
       "    </tr>\n",
       "    <tr>\n",
       "      <th>content_9</th>\n",
       "      <td>48.025</td>\n",
       "      <td>0.349</td>\n",
       "    </tr>\n",
       "  </tbody>\n",
       "</table>\n",
       "</div>"
      ],
      "text/plain": [
       "           % not null  % balance\n",
       "content_1      46.022      0.502\n",
       "content_2      42.958      0.509\n",
       "content_3      27.314      0.975\n",
       "content_4      38.079      1.096\n",
       "content_5      44.830      0.793\n",
       "content_6      49.706      0.156\n",
       "content_7      38.196      0.201\n",
       "content_8      38.346      0.210\n",
       "content_9      48.025      0.349"
      ]
     },
     "execution_count": 3,
     "metadata": {},
     "output_type": "execute_result"
    }
   ],
   "source": [
    "#df.drop('customer_id', axis=1, inplace=True)\n",
    "content_cols = ['content_1','content_2','content_3','content_4','content_5','content_6','content_7','content_8','content_9',]\n",
    "df_content_cols = df[content_cols]\n",
    "\n",
    "not_null_pct = pd.DataFrame(df_content_cols.count() / len(df_content_cols) * 100, columns=['% not null'])\n",
    "balance_pct = pd.DataFrame(df_content_cols.sum() / len(df_content_cols) * 100, columns=['% balance'])\n",
    "\n",
    "df_na_balance = pd.concat([not_null_pct, balance_pct], axis=1)\n",
    "df_na_balance"
   ]
  },
  {
   "cell_type": "markdown",
   "metadata": {},
   "source": [
    "Some HEAVY class imbalance here. We're going to have to try some sampling methods to get over this, but this looks like it'll be a tricky one to solve!"
   ]
  },
  {
   "cell_type": "code",
   "execution_count": 4,
   "metadata": {},
   "outputs": [
    {
     "data": {
      "image/png": "[encoded data removed]",
      "text/plain": [
       "<Figure size 720x432 with 1 Axes>"
      ]
     },
     "metadata": {
      "needs_background": "light"
     },
     "output_type": "display_data"
    }
   ],
   "source": [
    "plt.figure(figsize=(10,6))\n",
    "sns.scatterplot(df_na_balance['% not null'], df_na_balance['% balance'], hue=df_na_balance.index, s=100)\n",
    "plt.show()"
   ]
  },
  {
   "cell_type": "markdown",
   "metadata": {},
   "source": [
    "To make matters worse, the content with high amounts of NaNs, also are the ones with higher class balance... So we'll take the content that shows highest in the top-right quadrant: content_5."
   ]
  },
  {
   "cell_type": "code",
   "execution_count": 5,
   "metadata": {},
   "outputs": [],
   "source": [
    "cols_remove = ['content_1','content_2','content_3','content_4','content_6','content_7','content_8','content_9']\n",
    "df.drop(cols_remove, axis=1, inplace=True)"
   ]
  },
  {
   "cell_type": "code",
   "execution_count": 6,
   "metadata": {},
   "outputs": [
    {
     "name": "stdout",
     "output_type": "stream",
     "text": [
      "(44830, 19)\n"
     ]
    }
   ],
   "source": [
    "df = df.dropna().reset_index(drop=True)\n",
    "print(df.shape)"
   ]
  },
  {
   "cell_type": "code",
   "execution_count": 7,
   "metadata": {},
   "outputs": [
    {
     "name": "stdout",
     "output_type": "stream",
     "text": [
      "<class 'pandas.core.frame.DataFrame'>\n",
      "RangeIndex: 44830 entries, 0 to 44829\n",
      "Data columns (total 19 columns):\n",
      "customer_id               44830 non-null int64\n",
      "content_5                 44830 non-null float64\n",
      "store1_no_transactions    44830 non-null int64\n",
      "store1_total_spend        44830 non-null float64\n",
      "store2_no_transactions    44830 non-null int64\n",
      "store2_total_spend        44830 non-null float64\n",
      "store3_no_transactions    44830 non-null int64\n",
      "store3_total_spend        44830 non-null float64\n",
      "store4_no_transactions    44830 non-null int64\n",
      "store4_total_spend        44830 non-null float64\n",
      "store5_no_transactions    44830 non-null int64\n",
      "store5_total_spend        44830 non-null float64\n",
      "store6_no_transactions    44830 non-null int64\n",
      "store6_total_spend        44830 non-null float64\n",
      "store7_no_transactions    44830 non-null int64\n",
      "store7_total_spend        44830 non-null float64\n",
      "gender                    44830 non-null object\n",
      "affluency                 44830 non-null object\n",
      "county                    44830 non-null object\n",
      "dtypes: float64(8), int64(8), object(3)\n",
      "memory usage: 6.5+ MB\n"
     ]
    }
   ],
   "source": [
    "df.info()"
   ]
  },
  {
   "cell_type": "markdown",
   "metadata": {},
   "source": [
    "There are 3 categorical features in there that we'll need to sort out. County in particular looks like it'll need some particular attention.\n",
    "\n",
    "Let's take a look at our numerical features first though."
   ]
  },
  {
   "cell_type": "code",
   "execution_count": 8,
   "metadata": {},
   "outputs": [
    {
     "data": {
      "text/html": [
       "<div>\n",
       "<style scoped>\n",
       "    .dataframe tbody tr th:only-of-type {\n",
       "        vertical-align: middle;\n",
       "    }\n",
       "\n",
       "    .dataframe tbody tr th {\n",
       "        vertical-align: top;\n",
       "    }\n",
       "\n",
       "    .dataframe thead th {\n",
       "        text-align: right;\n",
       "    }\n",
       "</style>\n",
       "<table border=\"1\" class=\"dataframe\">\n",
       "  <thead>\n",
       "    <tr style=\"text-align: right;\">\n",
       "      <th></th>\n",
       "      <th>customer_id</th>\n",
       "      <th>content_5</th>\n",
       "      <th>store1_no_transactions</th>\n",
       "      <th>store1_total_spend</th>\n",
       "      <th>store2_no_transactions</th>\n",
       "      <th>store2_total_spend</th>\n",
       "      <th>store3_no_transactions</th>\n",
       "      <th>store3_total_spend</th>\n",
       "      <th>store4_no_transactions</th>\n",
       "      <th>store4_total_spend</th>\n",
       "      <th>store5_no_transactions</th>\n",
       "      <th>store5_total_spend</th>\n",
       "      <th>store6_no_transactions</th>\n",
       "      <th>store6_total_spend</th>\n",
       "      <th>store7_no_transactions</th>\n",
       "      <th>store7_total_spend</th>\n",
       "    </tr>\n",
       "  </thead>\n",
       "  <tbody>\n",
       "    <tr>\n",
       "      <th>count</th>\n",
       "      <td>44830.000000</td>\n",
       "      <td>44830.000000</td>\n",
       "      <td>44830.000000</td>\n",
       "      <td>44830.000000</td>\n",
       "      <td>44830.000000</td>\n",
       "      <td>44830.000000</td>\n",
       "      <td>44830.000000</td>\n",
       "      <td>44830.000000</td>\n",
       "      <td>44830.000000</td>\n",
       "      <td>44830.000000</td>\n",
       "      <td>44830.000000</td>\n",
       "      <td>44830.000000</td>\n",
       "      <td>44830.000000</td>\n",
       "      <td>44830.000000</td>\n",
       "      <td>44830.000000</td>\n",
       "      <td>44830.000000</td>\n",
       "    </tr>\n",
       "    <tr>\n",
       "      <th>mean</th>\n",
       "      <td>49952.678853</td>\n",
       "      <td>0.017689</td>\n",
       "      <td>49.938746</td>\n",
       "      <td>770.204315</td>\n",
       "      <td>50.082623</td>\n",
       "      <td>1151.190058</td>\n",
       "      <td>50.108209</td>\n",
       "      <td>2833.789122</td>\n",
       "      <td>49.719563</td>\n",
       "      <td>2815.363340</td>\n",
       "      <td>30.512603</td>\n",
       "      <td>1043.910412</td>\n",
       "      <td>30.342628</td>\n",
       "      <td>571.474093</td>\n",
       "      <td>30.527705</td>\n",
       "      <td>2826.470097</td>\n",
       "    </tr>\n",
       "    <tr>\n",
       "      <th>std</th>\n",
       "      <td>28883.991903</td>\n",
       "      <td>0.131820</td>\n",
       "      <td>19.019645</td>\n",
       "      <td>896.816767</td>\n",
       "      <td>19.253655</td>\n",
       "      <td>1349.516816</td>\n",
       "      <td>18.954799</td>\n",
       "      <td>3365.743117</td>\n",
       "      <td>19.042009</td>\n",
       "      <td>3334.423549</td>\n",
       "      <td>18.248171</td>\n",
       "      <td>1411.712431</td>\n",
       "      <td>18.143823</td>\n",
       "      <td>776.658712</td>\n",
       "      <td>18.213927</td>\n",
       "      <td>3786.695710</td>\n",
       "    </tr>\n",
       "    <tr>\n",
       "      <th>min</th>\n",
       "      <td>5.000000</td>\n",
       "      <td>0.000000</td>\n",
       "      <td>0.000000</td>\n",
       "      <td>0.000000</td>\n",
       "      <td>0.000000</td>\n",
       "      <td>0.000000</td>\n",
       "      <td>0.000000</td>\n",
       "      <td>0.000000</td>\n",
       "      <td>0.000000</td>\n",
       "      <td>0.000000</td>\n",
       "      <td>0.000000</td>\n",
       "      <td>0.000000</td>\n",
       "      <td>0.000000</td>\n",
       "      <td>0.000000</td>\n",
       "      <td>0.000000</td>\n",
       "      <td>0.000000</td>\n",
       "    </tr>\n",
       "    <tr>\n",
       "      <th>25%</th>\n",
       "      <td>24968.500000</td>\n",
       "      <td>0.000000</td>\n",
       "      <td>37.000000</td>\n",
       "      <td>205.670000</td>\n",
       "      <td>37.000000</td>\n",
       "      <td>310.512500</td>\n",
       "      <td>37.000000</td>\n",
       "      <td>756.205000</td>\n",
       "      <td>37.000000</td>\n",
       "      <td>754.387500</td>\n",
       "      <td>17.000000</td>\n",
       "      <td>189.502500</td>\n",
       "      <td>17.000000</td>\n",
       "      <td>105.372500</td>\n",
       "      <td>17.000000</td>\n",
       "      <td>511.705000</td>\n",
       "    </tr>\n",
       "    <tr>\n",
       "      <th>50%</th>\n",
       "      <td>49830.500000</td>\n",
       "      <td>0.000000</td>\n",
       "      <td>50.000000</td>\n",
       "      <td>493.815000</td>\n",
       "      <td>50.000000</td>\n",
       "      <td>737.150000</td>\n",
       "      <td>50.000000</td>\n",
       "      <td>1801.625000</td>\n",
       "      <td>50.000000</td>\n",
       "      <td>1786.465000</td>\n",
       "      <td>30.000000</td>\n",
       "      <td>587.525000</td>\n",
       "      <td>30.000000</td>\n",
       "      <td>321.900000</td>\n",
       "      <td>30.000000</td>\n",
       "      <td>1564.250000</td>\n",
       "    </tr>\n",
       "    <tr>\n",
       "      <th>75%</th>\n",
       "      <td>74918.250000</td>\n",
       "      <td>0.000000</td>\n",
       "      <td>63.000000</td>\n",
       "      <td>1006.700000</td>\n",
       "      <td>63.000000</td>\n",
       "      <td>1486.950000</td>\n",
       "      <td>63.000000</td>\n",
       "      <td>3677.585000</td>\n",
       "      <td>63.000000</td>\n",
       "      <td>3677.035000</td>\n",
       "      <td>43.000000</td>\n",
       "      <td>1359.060000</td>\n",
       "      <td>43.000000</td>\n",
       "      <td>736.947500</td>\n",
       "      <td>43.000000</td>\n",
       "      <td>3672.542500</td>\n",
       "    </tr>\n",
       "    <tr>\n",
       "      <th>max</th>\n",
       "      <td>100000.000000</td>\n",
       "      <td>1.000000</td>\n",
       "      <td>139.000000</td>\n",
       "      <td>13822.610000</td>\n",
       "      <td>140.000000</td>\n",
       "      <td>22317.430000</td>\n",
       "      <td>131.000000</td>\n",
       "      <td>73988.490000</td>\n",
       "      <td>129.000000</td>\n",
       "      <td>82972.690000</td>\n",
       "      <td>116.000000</td>\n",
       "      <td>40018.310000</td>\n",
       "      <td>124.000000</td>\n",
       "      <td>14822.620000</td>\n",
       "      <td>118.000000</td>\n",
       "      <td>65821.180000</td>\n",
       "    </tr>\n",
       "  </tbody>\n",
       "</table>\n",
       "</div>"
      ],
      "text/plain": [
       "         customer_id     content_5  store1_no_transactions  \\\n",
       "count   44830.000000  44830.000000            44830.000000   \n",
       "mean    49952.678853      0.017689               49.938746   \n",
       "std     28883.991903      0.131820               19.019645   \n",
       "min         5.000000      0.000000                0.000000   \n",
       "25%     24968.500000      0.000000               37.000000   \n",
       "50%     49830.500000      0.000000               50.000000   \n",
       "75%     74918.250000      0.000000               63.000000   \n",
       "max    100000.000000      1.000000              139.000000   \n",
       "\n",
       "       store1_total_spend  store2_no_transactions  store2_total_spend  \\\n",
       "count        44830.000000            44830.000000        44830.000000   \n",
       "mean           770.204315               50.082623         1151.190058   \n",
       "std            896.816767               19.253655         1349.516816   \n",
       "min              0.000000                0.000000            0.000000   \n",
       "25%            205.670000               37.000000          310.512500   \n",
       "50%            493.815000               50.000000          737.150000   \n",
       "75%           1006.700000               63.000000         1486.950000   \n",
       "max          13822.610000              140.000000        22317.430000   \n",
       "\n",
       "       store3_no_transactions  store3_total_spend  store4_no_transactions  \\\n",
       "count            44830.000000        44830.000000            44830.000000   \n",
       "mean                50.108209         2833.789122               49.719563   \n",
       "std                 18.954799         3365.743117               19.042009   \n",
       "min                  0.000000            0.000000                0.000000   \n",
       "25%                 37.000000          756.205000               37.000000   \n",
       "50%                 50.000000         1801.625000               50.000000   \n",
       "75%                 63.000000         3677.585000               63.000000   \n",
       "max                131.000000        73988.490000              129.000000   \n",
       "\n",
       "       store4_total_spend  store5_no_transactions  store5_total_spend  \\\n",
       "count        44830.000000            44830.000000        44830.000000   \n",
       "mean          2815.363340               30.512603         1043.910412   \n",
       "std           3334.423549               18.248171         1411.712431   \n",
       "min              0.000000                0.000000            0.000000   \n",
       "25%            754.387500               17.000000          189.502500   \n",
       "50%           1786.465000               30.000000          587.525000   \n",
       "75%           3677.035000               43.000000         1359.060000   \n",
       "max          82972.690000              116.000000        40018.310000   \n",
       "\n",
       "       store6_no_transactions  store6_total_spend  store7_no_transactions  \\\n",
       "count            44830.000000        44830.000000            44830.000000   \n",
       "mean                30.342628          571.474093               30.527705   \n",
       "std                 18.143823          776.658712               18.213927   \n",
       "min                  0.000000            0.000000                0.000000   \n",
       "25%                 17.000000          105.372500               17.000000   \n",
       "50%                 30.000000          321.900000               30.000000   \n",
       "75%                 43.000000          736.947500               43.000000   \n",
       "max                124.000000        14822.620000              118.000000   \n",
       "\n",
       "       store7_total_spend  \n",
       "count        44830.000000  \n",
       "mean          2826.470097  \n",
       "std           3786.695710  \n",
       "min              0.000000  \n",
       "25%            511.705000  \n",
       "50%           1564.250000  \n",
       "75%           3672.542500  \n",
       "max          65821.180000  "
      ]
     },
     "execution_count": 8,
     "metadata": {},
     "output_type": "execute_result"
    }
   ],
   "source": [
    "df.describe()"
   ]
  },
  {
   "cell_type": "code",
   "execution_count": 9,
   "metadata": {},
   "outputs": [
    {
     "data": {
      "image/png": "[encoded data removed]",
      "text/plain": [
       "<Figure size 576x504 with 3 Axes>"
      ]
     },
     "metadata": {
      "needs_background": "light"
     },
     "output_type": "display_data"
    }
   ],
   "source": [
    "df_categorical = df.select_dtypes(include='object')\n",
    "fig, ax = plt.subplots(3,1,figsize = (8,7))\n",
    "fig.tight_layout()\n",
    "for i, feature in enumerate(df_categorical.columns):\n",
    "    plot = sns.countplot(df_categorical[feature], color='turquoise', ax=ax[i], )\n",
    "fig.show()"
   ]
  },
  {
   "cell_type": "markdown",
   "metadata": {},
   "source": [
    "We can just create scales for gender and affluency, but we'll need to encode the county. But since there are so many, we may have to lookup to a higher geospatial granularity, or even remove the feature entirely."
   ]
  },
  {
   "cell_type": "code",
   "execution_count": 10,
   "metadata": {},
   "outputs": [],
   "source": [
    "# 1 if female, 0 if male\n",
    "gender_encode_dict = dict(zip(df['gender'].unique(), [1,0]))\n",
    "# Ordinal scale for affluency\n",
    "affluency_encode_dict = dict(zip(df['affluency'].unique(), [2,1,0,3,4]))"
   ]
  },
  {
   "cell_type": "code",
   "execution_count": 11,
   "metadata": {},
   "outputs": [
    {
     "data": {
      "text/html": [
       "<div>\n",
       "<style scoped>\n",
       "    .dataframe tbody tr th:only-of-type {\n",
       "        vertical-align: middle;\n",
       "    }\n",
       "\n",
       "    .dataframe tbody tr th {\n",
       "        vertical-align: top;\n",
       "    }\n",
       "\n",
       "    .dataframe thead th {\n",
       "        text-align: right;\n",
       "    }\n",
       "</style>\n",
       "<table border=\"1\" class=\"dataframe\">\n",
       "  <thead>\n",
       "    <tr style=\"text-align: right;\">\n",
       "      <th></th>\n",
       "      <th>customer_id</th>\n",
       "      <th>content_5</th>\n",
       "      <th>store1_no_transactions</th>\n",
       "      <th>store1_total_spend</th>\n",
       "      <th>store2_no_transactions</th>\n",
       "      <th>store2_total_spend</th>\n",
       "      <th>store3_no_transactions</th>\n",
       "      <th>store3_total_spend</th>\n",
       "      <th>store4_no_transactions</th>\n",
       "      <th>store4_total_spend</th>\n",
       "      <th>store5_no_transactions</th>\n",
       "      <th>store5_total_spend</th>\n",
       "      <th>store6_no_transactions</th>\n",
       "      <th>store6_total_spend</th>\n",
       "      <th>store7_no_transactions</th>\n",
       "      <th>store7_total_spend</th>\n",
       "      <th>gender</th>\n",
       "      <th>affluency</th>\n",
       "      <th>county</th>\n",
       "    </tr>\n",
       "  </thead>\n",
       "  <tbody>\n",
       "    <tr>\n",
       "      <th>0</th>\n",
       "      <td>5</td>\n",
       "      <td>0.0</td>\n",
       "      <td>38</td>\n",
       "      <td>143.67</td>\n",
       "      <td>39</td>\n",
       "      <td>601.60</td>\n",
       "      <td>39</td>\n",
       "      <td>856.57</td>\n",
       "      <td>52</td>\n",
       "      <td>3170.40</td>\n",
       "      <td>27</td>\n",
       "      <td>651.36</td>\n",
       "      <td>52</td>\n",
       "      <td>925.30</td>\n",
       "      <td>17</td>\n",
       "      <td>433.57</td>\n",
       "      <td>1</td>\n",
       "      <td>2</td>\n",
       "      <td>Norfolk</td>\n",
       "    </tr>\n",
       "    <tr>\n",
       "      <th>1</th>\n",
       "      <td>10</td>\n",
       "      <td>0.0</td>\n",
       "      <td>56</td>\n",
       "      <td>1947.77</td>\n",
       "      <td>45</td>\n",
       "      <td>2460.47</td>\n",
       "      <td>51</td>\n",
       "      <td>9436.17</td>\n",
       "      <td>33</td>\n",
       "      <td>573.02</td>\n",
       "      <td>0</td>\n",
       "      <td>0.00</td>\n",
       "      <td>0</td>\n",
       "      <td>0.00</td>\n",
       "      <td>32</td>\n",
       "      <td>3342.85</td>\n",
       "      <td>1</td>\n",
       "      <td>1</td>\n",
       "      <td>County Durham</td>\n",
       "    </tr>\n",
       "    <tr>\n",
       "      <th>2</th>\n",
       "      <td>11</td>\n",
       "      <td>0.0</td>\n",
       "      <td>29</td>\n",
       "      <td>2441.30</td>\n",
       "      <td>57</td>\n",
       "      <td>648.95</td>\n",
       "      <td>55</td>\n",
       "      <td>9695.78</td>\n",
       "      <td>86</td>\n",
       "      <td>8386.47</td>\n",
       "      <td>23</td>\n",
       "      <td>2.28</td>\n",
       "      <td>19</td>\n",
       "      <td>327.66</td>\n",
       "      <td>26</td>\n",
       "      <td>1436.20</td>\n",
       "      <td>1</td>\n",
       "      <td>0</td>\n",
       "      <td>Essex</td>\n",
       "    </tr>\n",
       "    <tr>\n",
       "      <th>3</th>\n",
       "      <td>12</td>\n",
       "      <td>0.0</td>\n",
       "      <td>28</td>\n",
       "      <td>602.62</td>\n",
       "      <td>10</td>\n",
       "      <td>756.95</td>\n",
       "      <td>81</td>\n",
       "      <td>2629.97</td>\n",
       "      <td>56</td>\n",
       "      <td>687.44</td>\n",
       "      <td>48</td>\n",
       "      <td>702.18</td>\n",
       "      <td>55</td>\n",
       "      <td>140.50</td>\n",
       "      <td>0</td>\n",
       "      <td>0.00</td>\n",
       "      <td>0</td>\n",
       "      <td>0</td>\n",
       "      <td>West Sussex</td>\n",
       "    </tr>\n",
       "    <tr>\n",
       "      <th>4</th>\n",
       "      <td>17</td>\n",
       "      <td>0.0</td>\n",
       "      <td>54</td>\n",
       "      <td>1128.71</td>\n",
       "      <td>31</td>\n",
       "      <td>6.20</td>\n",
       "      <td>16</td>\n",
       "      <td>138.16</td>\n",
       "      <td>43</td>\n",
       "      <td>5160.10</td>\n",
       "      <td>36</td>\n",
       "      <td>958.01</td>\n",
       "      <td>34</td>\n",
       "      <td>20.65</td>\n",
       "      <td>24</td>\n",
       "      <td>468.64</td>\n",
       "      <td>0</td>\n",
       "      <td>0</td>\n",
       "      <td>Greater Manchester</td>\n",
       "    </tr>\n",
       "  </tbody>\n",
       "</table>\n",
       "</div>"
      ],
      "text/plain": [
       "   customer_id  content_5  store1_no_transactions  store1_total_spend  \\\n",
       "0            5        0.0                      38              143.67   \n",
       "1           10        0.0                      56             1947.77   \n",
       "2           11        0.0                      29             2441.30   \n",
       "3           12        0.0                      28              602.62   \n",
       "4           17        0.0                      54             1128.71   \n",
       "\n",
       "   store2_no_transactions  store2_total_spend  store3_no_transactions  \\\n",
       "0                      39              601.60                      39   \n",
       "1                      45             2460.47                      51   \n",
       "2                      57              648.95                      55   \n",
       "3                      10              756.95                      81   \n",
       "4                      31                6.20                      16   \n",
       "\n",
       "   store3_total_spend  store4_no_transactions  store4_total_spend  \\\n",
       "0              856.57                      52             3170.40   \n",
       "1             9436.17                      33              573.02   \n",
       "2             9695.78                      86             8386.47   \n",
       "3             2629.97                      56              687.44   \n",
       "4              138.16                      43             5160.10   \n",
       "\n",
       "   store5_no_transactions  store5_total_spend  store6_no_transactions  \\\n",
       "0                      27              651.36                      52   \n",
       "1                       0                0.00                       0   \n",
       "2                      23                2.28                      19   \n",
       "3                      48              702.18                      55   \n",
       "4                      36              958.01                      34   \n",
       "\n",
       "   store6_total_spend  store7_no_transactions  store7_total_spend  gender  \\\n",
       "0              925.30                      17              433.57       1   \n",
       "1                0.00                      32             3342.85       1   \n",
       "2              327.66                      26             1436.20       1   \n",
       "3              140.50                       0                0.00       0   \n",
       "4               20.65                      24              468.64       0   \n",
       "\n",
       "   affluency              county  \n",
       "0          2             Norfolk  \n",
       "1          1       County Durham  \n",
       "2          0               Essex  \n",
       "3          0         West Sussex  \n",
       "4          0  Greater Manchester  "
      ]
     },
     "execution_count": 11,
     "metadata": {},
     "output_type": "execute_result"
    }
   ],
   "source": [
    "df = df.replace({'gender': gender_encode_dict})\n",
    "df = df.replace({'affluency': affluency_encode_dict})\n",
    "df.head()"
   ]
  },
  {
   "cell_type": "code",
   "execution_count": 12,
   "metadata": {},
   "outputs": [
    {
     "data": {
      "text/html": [
       "<div>\n",
       "<style scoped>\n",
       "    .dataframe tbody tr th:only-of-type {\n",
       "        vertical-align: middle;\n",
       "    }\n",
       "\n",
       "    .dataframe tbody tr th {\n",
       "        vertical-align: top;\n",
       "    }\n",
       "\n",
       "    .dataframe thead th {\n",
       "        text-align: right;\n",
       "    }\n",
       "</style>\n",
       "<table border=\"1\" class=\"dataframe\">\n",
       "  <thead>\n",
       "    <tr style=\"text-align: right;\">\n",
       "      <th></th>\n",
       "      <th>county</th>\n",
       "      <th>region</th>\n",
       "    </tr>\n",
       "  </thead>\n",
       "  <tbody>\n",
       "    <tr>\n",
       "      <th>0</th>\n",
       "      <td>Guernsey</td>\n",
       "      <td>Crown Dependencies</td>\n",
       "    </tr>\n",
       "    <tr>\n",
       "      <th>1</th>\n",
       "      <td>IOM</td>\n",
       "      <td>Crown Dependencies</td>\n",
       "    </tr>\n",
       "  </tbody>\n",
       "</table>\n",
       "</div>"
      ],
      "text/plain": [
       "     county              region\n",
       "0  Guernsey  Crown Dependencies\n",
       "1       IOM  Crown Dependencies"
      ]
     },
     "execution_count": 12,
     "metadata": {},
     "output_type": "execute_result"
    }
   ],
   "source": [
    "county_lookup = pd.read_csv('input/uk-counties-to-regions.csv')\n",
    "county_lookup.head(2)"
   ]
  },
  {
   "cell_type": "code",
   "execution_count": 13,
   "metadata": {},
   "outputs": [
    {
     "name": "stdout",
     "output_type": "stream",
     "text": [
      "df shape: (58417, 19)\n",
      "Number of unique regions: 9\n",
      "Number of NaNs in region: 0\n"
     ]
    }
   ],
   "source": [
    "df = df.merge(county_lookup, how='inner').drop('county', axis=1)\n",
    "print('df shape: {}'.format(df.shape))\n",
    "print('Number of unique regions: {}'.format(len(df['region'].unique())))\n",
    "print('Number of NaNs in region: {}'.format(sum(df['region'].isna())))"
   ]
  },
  {
   "cell_type": "markdown",
   "metadata": {},
   "source": [
    "We'll remove those NA values resulting from the merge, as it's not too much. And 10 dummy variables shouldn't be too bad I feel. I'm sure we will work with it more in our PCA work."
   ]
  },
  {
   "cell_type": "code",
   "execution_count": 14,
   "metadata": {},
   "outputs": [],
   "source": [
    "df.dropna(inplace=True)\n",
    "def dummies(df, columns):\n",
    "    for column in columns:\n",
    "        df[column] = df[column].apply(lambda x: str(x))\n",
    "        df = pd.concat((df, pd.get_dummies(df[column], prefix = column)), axis = 1)\n",
    "        df = df.drop(column, 1)\n",
    "    return df"
   ]
  },
  {
   "cell_type": "code",
   "execution_count": 15,
   "metadata": {},
   "outputs": [],
   "source": [
    "df = dummies(df, ['region'])"
   ]
  },
  {
   "cell_type": "markdown",
   "metadata": {},
   "source": [
    "It's always hepful at this point to check out the correlations of all the variables, so we can be aware of any highly correlated features (correlations outside of the target variable, that is)."
   ]
  },
  {
   "cell_type": "code",
   "execution_count": 16,
   "metadata": {},
   "outputs": [
    {
     "data": {
      "image/png": "[encoded data removed]",
      "text/plain": [
       "<Figure size 1008x864 with 2 Axes>"
      ]
     },
     "metadata": {
      "needs_background": "light"
     },
     "output_type": "display_data"
    }
   ],
   "source": [
    "plt.figure(figsize=(14,12))\n",
    "sns.heatmap(df.astype(float).corr(),linewidths=0.1,vmax=1.0, \n",
    "            square=True)\n",
    "plt.show()"
   ]
  },
  {
   "cell_type": "markdown",
   "metadata": {},
   "source": [
    "Looks good! I was worried that the no. transactions and total transaction features were going to be highly correlated, in which case we'd have to work through that... But thankfully not today. \n",
    "\n",
    "Highly correlated features aren't necessarily a bad thing, but they can be quite fiddly for feature selection. Often we need to remove a selection of the correlated features as they can be expensive to keep in, but the boundary of what to keep and what to throw is hard to define, and hence, fiddly. \n",
    "\n",
    "## Feature Scaling & Sampling"
   ]
  },
  {
   "cell_type": "code",
   "execution_count": 17,
   "metadata": {},
   "outputs": [],
   "source": [
    "X = df.loc[:, df.columns != 'content_5']\n",
    "y = df['content_5']\n",
    "\n",
    "X_train, X_test, y_train, y_test = train_test_split(X, y, test_size=0.25, random_state = 10)\n",
    "\n",
    "#train = pd.concat([X_train, y_train], axis=1)\n",
    "#test = pd.concat([X_test, y_test], axis=1)"
   ]
  },
  {
   "cell_type": "code",
   "execution_count": 18,
   "metadata": {},
   "outputs": [
    {
     "name": "stdout",
     "output_type": "stream",
     "text": [
      "[]\n",
      "(43812, 26)\n"
     ]
    }
   ],
   "source": [
    "overfit = []\n",
    "for i in X_train.columns:\n",
    "    counts = X_train[i].value_counts()\n",
    "    zeros = counts.iloc[0]\n",
    "    if zeros / len(X_train) * 100 > 99.94:\n",
    "        overfit.append(i)\n",
    "\n",
    "overfit = list(overfit)\n",
    "print(overfit)\n",
    "X_train = X_train.drop(overfit, axis=1)\n",
    "print(X_train.shape)"
   ]
  },
  {
   "cell_type": "markdown",
   "metadata": {},
   "source": [
    "We don't need to get rid of any features that may cause overfitting according to the above check, which is promising.\n",
    "\n",
    "Now we need to address the class imbalance that's been hanging over my head... We'll do a mixture of undersampling (removing records to address the imbalance), and Synthetic Minority Over Sampling."
   ]
  },
  {
   "cell_type": "code",
   "execution_count": 19,
   "metadata": {},
   "outputs": [
    {
     "name": "stdout",
     "output_type": "stream",
     "text": [
      "(8118, 26)\n"
     ]
    },
    {
     "name": "stderr",
     "output_type": "stream",
     "text": [
      "C:\\Users\\Edward Sims\\Anaconda3\\lib\\site-packages\\sklearn\\utils\\deprecation.py:77: DeprecationWarning: Function _ratio_float is deprecated; Use a float for 'ratio' is deprecated from version 0.2. The support will be removed in 0.4. Use a dict, str, or a callable instead.\n",
      "  warnings.warn(msg, category=DeprecationWarning)\n"
     ]
    }
   ],
   "source": [
    "rus = RandomUnderSampler(ratio=0.10, random_state=10)\n",
    "X_train_rus, y_train_rus = rus.fit_sample(X_train, y_train)\n",
    "print(X_train_rus.shape)"
   ]
  },
  {
   "cell_type": "code",
   "execution_count": 20,
   "metadata": {},
   "outputs": [
    {
     "name": "stderr",
     "output_type": "stream",
     "text": [
      "C:\\Users\\Edward Sims\\Anaconda3\\lib\\site-packages\\sklearn\\utils\\deprecation.py:77: DeprecationWarning: Function _ratio_float is deprecated; Use a float for 'ratio' is deprecated from version 0.2. The support will be removed in 0.4. Use a dict, str, or a callable instead.\n",
      "  warnings.warn(msg, category=DeprecationWarning)\n"
     ]
    }
   ],
   "source": [
    "sm = SMOTE(ratio=0.75, random_state = 10)\n",
    "X_train_res, y_train_res = sm.fit_sample(X_train_rus, y_train_rus)"
   ]
  },
  {
   "cell_type": "code",
   "execution_count": 21,
   "metadata": {},
   "outputs": [
    {
     "name": "stdout",
     "output_type": "stream",
     "text": [
      "Before Sampling:\n",
      "---------------------\n",
      "X_train: 43812 records\n",
      "y_train: 43812 records\n",
      "X_test: 14605 records\n",
      "y_test: 14605 records\n"
     ]
    }
   ],
   "source": [
    "print(\"Before Sampling:\")\n",
    "print(\"---------------------\")\n",
    "print(\"X_train: {} records\".format(str(len(X_train))))\n",
    "print(\"y_train: {} records\".format(str(len(y_train))))\n",
    "print(\"X_test: {} records\".format(str(len(X_test))))\n",
    "print(\"y_test: {} records\".format(str(len(y_test))))"
   ]
  },
  {
   "cell_type": "code",
   "execution_count": 22,
   "metadata": {},
   "outputs": [
    {
     "name": "stdout",
     "output_type": "stream",
     "text": [
      "After Sampling:\n",
      "---------------------\n",
      "X_train: 12915 records\n",
      "y_train: 12915 records\n",
      "X_test: 14605 records\n",
      "y_test: 14605 records\n"
     ]
    }
   ],
   "source": [
    "print(\"After Sampling:\")\n",
    "print(\"---------------------\")\n",
    "print(\"X_train: {} records\".format(str(len(X_train_res))))\n",
    "print(\"y_train: {} records\".format(str(len(y_train_res))))\n",
    "print(\"X_test: {} records\".format(str(len(X_test))))\n",
    "print(\"y_test: {} records\".format(str(len(y_test))))"
   ]
  },
  {
   "cell_type": "markdown",
   "metadata": {},
   "source": [
    "## Modelling\n",
    "We make a pipeline that scales our data just for the support vector classifier, as this a significant step when using this algorithm. Tree based models don't necessarily require this step, so we'll only perform it for the SVC."
   ]
  },
  {
   "cell_type": "code",
   "execution_count": 23,
   "metadata": {},
   "outputs": [],
   "source": [
    "svc = make_pipeline(RobustScaler(), SVC(C= 5, probability=True))"
   ]
  },
  {
   "cell_type": "code",
   "execution_count": 24,
   "metadata": {},
   "outputs": [],
   "source": [
    "gbc = GradientBoostingClassifier(n_estimators=500, \n",
    "                                 learning_rate=0.05, \n",
    "                                 max_depth=4, \n",
    "                                 max_features='auto', \n",
    "                                 min_samples_leaf=5, \n",
    "                                 min_samples_split=10)   "
   ]
  },
  {
   "cell_type": "code",
   "execution_count": 25,
   "metadata": {},
   "outputs": [],
   "source": [
    "lightgbm = LGBMClassifier(objective='binary', \n",
    "                          num_leaves=4,\n",
    "                          n_estimators=500,\n",
    "                          learning_rate=0.01, \n",
    "                          max_bin=200, \n",
    "                          bagging_freq=5, \n",
    "                          bagging_seed=7,\n",
    "                          is_unbalance=True,\n",
    "                          verbose=-1,\n",
    "                          n_jobs=-1)"
   ]
  },
  {
   "cell_type": "code",
   "execution_count": 26,
   "metadata": {},
   "outputs": [],
   "source": [
    "xgboost = XGBClassifier(learning_rate=0.01,\n",
    "                        n_estimators=500,     \n",
    "                        max_depth=3, \n",
    "                        min_child_weight=0,\n",
    "                        subsample=0.7,\n",
    "                        colsample_bytree=0.7,\n",
    "                        objective='binary:logistic', \n",
    "                        n_jobs=-1,\n",
    "                        verbosity=0)"
   ]
  },
  {
   "cell_type": "code",
   "execution_count": 27,
   "metadata": {},
   "outputs": [],
   "source": [
    "rf = RandomForestClassifier(n_estimators=500,\n",
    "                            max_depth=3, \n",
    "                            max_features='auto', \n",
    "                            min_samples_leaf=5, \n",
    "                            min_samples_split=10,\n",
    "                            n_jobs=-1)"
   ]
  },
  {
   "cell_type": "code",
   "execution_count": 28,
   "metadata": {},
   "outputs": [],
   "source": [
    "ab = AdaBoostClassifier(n_estimators=500)"
   ]
  },
  {
   "cell_type": "code",
   "execution_count": 29,
   "metadata": {},
   "outputs": [],
   "source": [
    "stacked_gen = StackingCVClassifier(classifiers=(svc, gbc, lightgbm, xgboost, rf, ab),\n",
    "                                   use_probas=True,\n",
    "                                   meta_classifier=xgboost)"
   ]
  },
  {
   "cell_type": "code",
   "execution_count": null,
   "metadata": {},
   "outputs": [
    {
     "name": "stdout",
     "output_type": "stream",
     "text": [
      "5-fold cross validation:\n",
      "\n",
      "Recall: 0.87 (+/- 0.08) [Support Vector Classifier]\n",
      "Recall: 0.86 (+/- 0.22) [Gradient Boosted Classifier]\n"
     ]
    },
    {
     "name": "stderr",
     "output_type": "stream",
     "text": [
      "C:\\Users\\Edward Sims\\Anaconda3\\lib\\site-packages\\sklearn\\preprocessing\\label.py:151: DeprecationWarning: The truth value of an empty array is ambiguous. Returning False, but in future this will result in an error. Use `array.size > 0` to check that an array is not empty.\n",
      "  if diff:\n",
      "C:\\Users\\Edward Sims\\Anaconda3\\lib\\site-packages\\sklearn\\preprocessing\\label.py:151: DeprecationWarning: The truth value of an empty array is ambiguous. Returning False, but in future this will result in an error. Use `array.size > 0` to check that an array is not empty.\n",
      "  if diff:\n",
      "C:\\Users\\Edward Sims\\Anaconda3\\lib\\site-packages\\sklearn\\preprocessing\\label.py:151: DeprecationWarning: The truth value of an empty array is ambiguous. Returning False, but in future this will result in an error. Use `array.size > 0` to check that an array is not empty.\n",
      "  if diff:\n",
      "C:\\Users\\Edward Sims\\Anaconda3\\lib\\site-packages\\sklearn\\preprocessing\\label.py:151: DeprecationWarning: The truth value of an empty array is ambiguous. Returning False, but in future this will result in an error. Use `array.size > 0` to check that an array is not empty.\n",
      "  if diff:\n",
      "C:\\Users\\Edward Sims\\Anaconda3\\lib\\site-packages\\sklearn\\preprocessing\\label.py:151: DeprecationWarning: The truth value of an empty array is ambiguous. Returning False, but in future this will result in an error. Use `array.size > 0` to check that an array is not empty.\n",
      "  if diff:\n"
     ]
    },
    {
     "name": "stdout",
     "output_type": "stream",
     "text": [
      "Recall: 0.78 (+/- 0.24) [Light GBM]\n"
     ]
    },
    {
     "name": "stderr",
     "output_type": "stream",
     "text": [
      "C:\\Users\\Edward Sims\\Anaconda3\\lib\\site-packages\\sklearn\\preprocessing\\label.py:151: DeprecationWarning: The truth value of an empty array is ambiguous. Returning False, but in future this will result in an error. Use `array.size > 0` to check that an array is not empty.\n",
      "  if diff:\n",
      "C:\\Users\\Edward Sims\\Anaconda3\\lib\\site-packages\\sklearn\\preprocessing\\label.py:151: DeprecationWarning: The truth value of an empty array is ambiguous. Returning False, but in future this will result in an error. Use `array.size > 0` to check that an array is not empty.\n",
      "  if diff:\n",
      "C:\\Users\\Edward Sims\\Anaconda3\\lib\\site-packages\\sklearn\\preprocessing\\label.py:151: DeprecationWarning: The truth value of an empty array is ambiguous. Returning False, but in future this will result in an error. Use `array.size > 0` to check that an array is not empty.\n",
      "  if diff:\n",
      "C:\\Users\\Edward Sims\\Anaconda3\\lib\\site-packages\\sklearn\\preprocessing\\label.py:151: DeprecationWarning: The truth value of an empty array is ambiguous. Returning False, but in future this will result in an error. Use `array.size > 0` to check that an array is not empty.\n",
      "  if diff:\n",
      "C:\\Users\\Edward Sims\\Anaconda3\\lib\\site-packages\\sklearn\\preprocessing\\label.py:151: DeprecationWarning: The truth value of an empty array is ambiguous. Returning False, but in future this will result in an error. Use `array.size > 0` to check that an array is not empty.\n",
      "  if diff:\n"
     ]
    },
    {
     "name": "stdout",
     "output_type": "stream",
     "text": [
      "Recall: 0.77 (+/- 0.24) [XGBoost]\n",
      "Recall: 0.67 (+/- 0.19) [Random Forest]\n",
      "Recall: 0.82 (+/- 0.23) [Adaboost]\n"
     ]
    },
    {
     "name": "stderr",
     "output_type": "stream",
     "text": [
      "C:\\Users\\Edward Sims\\Anaconda3\\lib\\site-packages\\sklearn\\preprocessing\\label.py:151: DeprecationWarning: The truth value of an empty array is ambiguous. Returning False, but in future this will result in an error. Use `array.size > 0` to check that an array is not empty.\n",
      "  if diff:\n",
      "C:\\Users\\Edward Sims\\Anaconda3\\lib\\site-packages\\sklearn\\preprocessing\\label.py:151: DeprecationWarning: The truth value of an empty array is ambiguous. Returning False, but in future this will result in an error. Use `array.size > 0` to check that an array is not empty.\n",
      "  if diff:\n"
     ]
    }
   ],
   "source": [
    "print('5-fold cross validation:\\n')\n",
    "\n",
    "for clf, label in zip([svc, gbc, lightgbm, xgboost, rf, ab, stacked_gen], \n",
    "                      ['Support Vector Classifier', \n",
    "                       'Gradient Boosted Classifier', \n",
    "                       'Light GBM',\n",
    "                       'XGBoost',\n",
    "                       'Random Forest',\n",
    "                       'Adaboost',\n",
    "                       'StackingClassifier']):\n",
    "\n",
    "    scores = cross_val_score(clf, X_train_res, y_train_res,\n",
    "                             cv=5, scoring='recall')\n",
    "    print(\"Recall: %0.2f (+/- %0.2f) [%s]\" \n",
    "          % (scores.mean(), scores.std(), label))"
   ]
  },
  {
   "cell_type": "code",
   "execution_count": null,
   "metadata": {},
   "outputs": [],
   "source": [
    "stacked_gen.fit(X_train_res, y_train_res)"
   ]
  },
  {
   "cell_type": "code",
   "execution_count": null,
   "metadata": {},
   "outputs": [],
   "source": []
  },
  {
   "cell_type": "code",
   "execution_count": null,
   "metadata": {},
   "outputs": [],
   "source": []
  },
  {
   "cell_type": "code",
   "execution_count": null,
   "metadata": {},
   "outputs": [],
   "source": []
  },
  {
   "cell_type": "code",
   "execution_count": null,
   "metadata": {},
   "outputs": [],
   "source": []
  }
 ],
 "metadata": {
  "kernelspec": {
   "display_name": "'Python Interactive'",
   "language": "python",
   "name": "a8dae707-2c7a-4728-90dd-23e595076851"
  },
  "language_info": {
   "codemirror_mode": {
    "name": "ipython",
    "version": 3
   },
   "file_extension": ".py",
   "mimetype": "text/x-python",
   "name": "python",
   "nbconvert_exporter": "python",
   "pygments_lexer": "ipython3",
   "version": "3.7.1"
  }
 },
 "nbformat": 4,
 "nbformat_minor": 2
}
